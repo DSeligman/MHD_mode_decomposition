{
 "cells": [
  {
   "cell_type": "code",
   "execution_count": 165,
   "metadata": {
    "collapsed": false
   },
   "outputs": [],
   "source": [
    "#This Notebook presents a code to do a decompositon onto Alfven Slow and Fast modes\n",
    "#Darryl Seligman version1 9/11/18\n",
    "#Adapted from version of code by Jonathan Squire\n",
    "%matplotlib inline\n",
    "\n",
    "import matplotlib\n",
    "import numpy as np\n",
    "import matplotlib.pyplot as plt\n",
    "from numpy.fft import *\n",
    "def mode_decomp(Vx,Vy,Vz,beta):\n",
    "    #Form grid of K\n",
    "    n=Vx.shape[0]\n",
    "    \n",
    "    N=[n,n,n]\n",
    "    L=[1.,1.,1.]\n",
    "    if(n%2==0):\n",
    "        b=np.arange(0,N[0]/2)\n",
    "        bb = np.linspace(-N[0]/2.,-1,N[0]/2)\n",
    "    else:\n",
    "        print \"hello\"\n",
    "        b=np.arange(0,N[0]/2)\n",
    "        bb = np.linspace(-N[0]/2.,-1.5,N[0]/2)\n",
    "        bb=np.append(bb,[.5])\n",
    "    #Form k-space vectors for each dimension [0 1 2 3 ... N/2-1 -N/2 -N/2+1 ... -2 -1]*2*pi/L\n",
    "    \n",
    "    kx=  2*np.pi*1j/L[0]*np.concatenate((b,bb))\n",
    "    ky=  2*np.pi*1j/L[1]*np.concatenate((b,bb))\n",
    "    kz=  2*np.pi*1j/L[2]*np.concatenate((b,bb))\n",
    "    print kx.shape\n",
    "    xg=np.linspace(0.,1.,n)\n",
    "    yg=np.linspace(0.,1.,n)\n",
    "    zg=np.linspace(0.,1.,n)\n",
    "    x,y,az=np.meshgrid(xg,yg,zg,indexing='ij')\n",
    "    #3D arrays of k-space grid\n",
    "    KX,KY,KZ= np.meshgrid(kx,ky,kz,indexing='ij')\n",
    "    #grid of |K|, kperp (B0 is in x direction) and k_hat\n",
    "    Kmag = np.sqrt(abs(KX**2+KY**2+KZ**2))\n",
    "    Kperp = np.sqrt(abs(KY**2+KZ**2))\n",
    "    Kmag[0]=1.\n",
    "    khx = KX/Kmag;\n",
    "    khy = KY/Kmag;\n",
    "    khz = KZ/Kmag;\n",
    "    #k-Grid for binning the spectra\n",
    "    kgrid = np.arange(0,max(ky.imag)+2.*np.pi/L[0],2.*np.pi/L[0])\n",
    "\n",
    "    kgridG = (kgrid[0:kgrid.size-1] +  kgrid[1:kgrid.size])/2;   \n",
    "    #Get B and V, take fourier transforms  \n",
    "    fVx = fftn(Vx);\n",
    "    fVy = fftn(Vy); \n",
    "    fVz = fftn(Vz);\n",
    "    # % Alfvenic part -- part of B and u in k*b_hat direction                                                                                                                                                                      \n",
    "    #% b_hat is x direction \n",
    "    kcbhx = 0;\n",
    "    kcbhy = (khz);\n",
    "    kcbhz =  - (khy);\n",
    "    #Alfvenic part of V, (k*bh).V \n",
    "    alfV =  kcbhy*fVy + kcbhz*fVz;\n",
    "    #Compressive part of V   \n",
    "    cmpVx = fVx;\n",
    "    cmpVy = fVy + kcbhy*alfV;\n",
    "    cmpVz = fVz + kcbhz*alfV;\n",
    "    #% Now decompose compressive part into fast and slow                                                                                                                                                                          \n",
    "    #% I think this is right, but never actually used this seriously  \n",
    "    costh = abs(khx);\n",
    "    sinth = np.sqrt(1.-costh**2);\n",
    "    #thx = -sinth*np.sign(KX);\n",
    "    thx = sinth*khx;\n",
    "    Kperp[Kperp==0]=1.;\n",
    "    thy = -costh*(KY/Kperp);\n",
    "    thz = -costh*(KZ/Kperp);\n",
    "    #% Slow wave part  \n",
    "    \n",
    "    slowV = -thx*fVx - thy*fVy - thz*fVz + costh*sinth/beta*(khx*fVx + khy*fVy + khz*fVz);\n",
    "    thetapart = -thx*fVx - thy*fVy - thz*fVz\n",
    "    khatpart = khx*fVx + khy*fVy + khz*fVz\n",
    "    #% Fast wave part  \n",
    "    fastV = costh*sinth/beta*(thx*fVx + thy*fVy + thz*fVz) + khx*fVx + khy*fVy + khz*fVz;\n",
    "    \n",
    "    alfVIso = spect1D((alfV),Kmag,kgrid)\n",
    "    VIso = spect1D(fVx,Kmag,kgrid) + spect1D(fVy,Kmag,kgrid) + spect1D(fVz,Kmag,kgrid); #% velocity spectrum\n",
    "    SpFIso =spect1D(cmpVx,Kmag,kgrid) + spect1D(cmpVy,Kmag,kgrid) + spect1D(cmpVz,Kmag,kgrid); #% Compressive part (slow+fast) of the velocity\n",
    "    slowVIso = spect1D((slowV),Kmag,kgrid); #% Slow mode part\n",
    "    fastVIso = spect1D((fastV),Kmag,kgrid); #% Fast mode part\n",
    "    #VIso1 = spect1D((thetapart),Kmag,kgrid)\n",
    "    #VIso2 = spect1D((khatpart),Kmag,kgrid)\n",
    "    return(kgridG,alfVIso,fastVIso,slowVIso)#,VIso1,VIso2)\n",
    "def spect1D(v1,K,kgrid):\n",
    "    # % Function to find the spectrum <v1^2>,\n",
    "    #% K is the kgrid associated with v1\n",
    "    #% kgrid is the grid for spectral shell binning\n",
    "    nk = len(kgrid)-1;\n",
    "    print nk\n",
    "    out1 = np.zeros((nk))\n",
    "    NT2 = K.size**2;\n",
    "    for kk in np.arange(nk):\n",
    "\n",
    "        out1[kk]= np.sum(abs(v1[(K<kgrid[kk+1]) & (K>kgrid[kk])])**2 )/NT2;\n",
    "\n",
    "    return out1   "
   ]
  },
  {
   "cell_type": "code",
   "execution_count": 13,
   "metadata": {
    "collapsed": false
   },
   "outputs": [
    {
     "name": "stdout",
     "output_type": "stream",
     "text": [
      "[  0.   1.   2.   3.   4.   5.   6.   7.   8.   9.  10.  11.  12.  13.  14.\n",
      "  15.  16.  17.  18.  19.  20.  21.  22.  23.  24.  25.  26.  27.  28.  29.\n",
      "  30.  31.  32.  33.  34.  35.  36.  37.  38.  39.  40.  41.  42.  43.  44.\n",
      "  45.  46.  47.  48.  49.  50.  51.  52.  53.  54.  55.  56.  57.  58.  59.\n",
      "  60.  61.  62.  63. -64. -63. -62. -61. -60. -59. -58. -57. -56. -55. -54.\n",
      " -53. -52. -51. -50. -49. -48. -47. -46. -45. -44. -43. -42. -41. -40. -39.\n",
      " -38. -37. -36. -35. -34. -33. -32. -31. -30. -29. -28. -27. -26. -25. -24.\n",
      " -23. -22. -21. -20. -19. -18. -17. -16. -15. -14. -13. -12. -11. -10.  -9.\n",
      "  -8.  -7.  -6.  -5.  -4.  -3.  -2.  -1.]\n",
      "(128,)\n",
      "(128,)\n",
      "(128, 128, 128)\n",
      "(128, 128, 128)\n",
      "(128, 128, 128)\n",
      "(128, 128, 128)\n",
      "63\n",
      "63\n",
      "63\n",
      "63\n",
      "63\n",
      "63\n",
      "63\n",
      "63\n",
      "63\n"
     ]
    },
    {
     "data": {
      "text/plain": [
       "<matplotlib.text.Text at 0x107c26b90>"
      ]
     },
     "execution_count": 13,
     "metadata": {},
     "output_type": "execute_result"
    },
    {
     "data": {
      "image/png": "[encoded data removed]",
      "text/plain": [
       "<matplotlib.figure.Figure at 0x106328310>"
      ]
     },
     "metadata": {},
     "output_type": "display_data"
    }
   ],
   "source": [
    "#Test for a linear purely Alfvenic Mode\n",
    "beta=128;\n",
    "n=128\n",
    "xg=np.linspace(0.,1.,n)\n",
    "yg=np.linspace(0.,1.,n)\n",
    "zg=np.linspace(0.,1.,n)\n",
    "x,y,z=np.meshgrid(xg,yg,zg,indexing='ij')\n",
    "Vx = np.zeros((n,n,n))\n",
    "Vz = np.zeros((n,n,n))+.01*np.random.rand(n,n,n)\n",
    "Vy = 10.1*np.sin(2.*128.*np.pi*z)\n",
    "\n",
    "kgridG,alfVIso,fastVIso,slowVIso=mode_decomp(Vx,Vy,Vz,beta)\n",
    "plt.loglog(kgridG,alfVIso,'bo',label='alfven')\n",
    "plt.loglog(kgridG,slowVIso,'ro',label='slow')\n",
    "plt.loglog(kgridG,fastVIso,'yo',label='fast')\n",
    "plt.legend()\n",
    "plt.xlabel('k')\n",
    "plt.ylabel('power')\n",
    "plt.title('Alfven Test ')"
   ]
  },
  {
   "cell_type": "code",
   "execution_count": 168,
   "metadata": {
    "collapsed": false
   },
   "outputs": [
    {
     "name": "stdout",
     "output_type": "stream",
     "text": [
      "7.10668695667\n",
      "0.703562719237\n",
      "(128,)\n",
      "63\n",
      "63\n",
      "63\n",
      "63\n",
      "63\n",
      "63\n",
      "63\n",
      "63\n",
      "63\n"
     ]
    },
    {
     "data": {
      "text/plain": [
       "<matplotlib.text.Text at 0x12a19e990>"
      ]
     },
     "execution_count": 168,
     "metadata": {},
     "output_type": "execute_result"
    },
    {
     "data": {
      "image/png": "[encoded data removed]",
      "text/plain": [
       "<matplotlib.figure.Figure at 0x126ca4e10>"
      ]
     },
     "metadata": {},
     "output_type": "display_data"
    }
   ],
   "source": [
    "#now test a slow mode\n",
    "beta=1.e2;\n",
    "#units alfven speed = 1\n",
    "va = 1.\n",
    "cs=np.sqrt(beta/2.)\n",
    "n=128\n",
    "B0=1.\n",
    "A=.001\n",
    "NN = 4.\n",
    "costheta=1./np.sqrt(2.)\n",
    "vplus =np.sqrt(.5*(va**2+cs**2+np.sqrt((va**2+cs**2)**2-4.*va**2*cs**2*costheta**2)))\n",
    "vminus = np.sqrt(.5*(va**2+cs**2-np.sqrt((va**2+cs**2)**2-4.*va**2*cs**2*costheta**2)))\n",
    "print vplus\n",
    "print vminus\n",
    "#omegaminus = NN*2.*np.pi*(1.+np.sqrt(2.)/2.)**(.5)#*.1\n",
    "omega = NN*2.*np.pi*vminus\n",
    "xg=np.linspace(0.,1.,n)\n",
    "yg=np.linspace(0.,1.,n)\n",
    "zg=np.linspace(0.,1.,n)\n",
    "x,y,z=np.meshgrid(xg,yg,zg,indexing='ij')\n",
    "Vy = np.zeros((n,n,n))\n",
    "#Vz = np.zeros((n,n,n))+.01*np.random.rand(n,n,n)\n",
    "#Vy = 10.1*np.sin(2.*128.*np.pi*z)\n",
    "xpart=.2\n",
    "zpart=np.sqrt(1.-xpart**2)\n",
    "\n",
    "Vx = np.sqrt(2.)/(2.*np.pi)/B0*omega*A*np.cos(2.*NN*np.pi/np.sqrt(2.)*(xpart*x+zpart*z))/NN\n",
    "Vz = A*np.cos(2.*NN*np.pi/np.sqrt(2.)*(xpart*x+zpart*z))\n",
    "#Vz=\n",
    "kgridG,alfVIso,fastVIso,slowVIso=mode_decomp(Vz,Vy,Vx,beta)\n",
    "\n",
    "#plt.loglog(kgridG,alfVIso,'bo',label='alfven')\n",
    "plt.loglog(kgridG,slowVIso,'bo',label='slow')\n",
    "plt.loglog(kgridG,fastVIso,'yo',label='fast')\n",
    "plt.legend()\n",
    "plt.xlabel('k')\n",
    "plt.ylabel('power')\n",
    "plt.title('Alfven Test ')\n"
   ]
  },
  {
   "cell_type": "code",
   "execution_count": 147,
   "metadata": {
    "collapsed": false
   },
   "outputs": [
    {
     "name": "stdout",
     "output_type": "stream",
     "text": [
      "[  0.00000000e+00   9.10152135e-12   2.94258484e-10   1.72035551e-08\n",
      "   2.13793633e-07   2.34760199e-09   1.15089262e-09   6.98625814e-10\n",
      "   4.75388659e-10   3.39598574e-10   2.59741836e-10   2.06298073e-10\n",
      "   1.69319626e-10   1.40648149e-10   1.19381977e-10   1.02852550e-10\n",
      "   8.98350212e-11   7.91927485e-11   7.05959613e-11   6.32234570e-11\n",
      "   5.71126105e-11   5.19881616e-11   4.75164095e-11   4.36874515e-11\n",
      "   4.03620345e-11   3.74570805e-11   3.48860729e-11   3.26144408e-11\n",
      "   3.06021976e-11   2.88125684e-11   2.72006794e-11   2.57664591e-11\n",
      "   2.44683374e-11   2.32825022e-11   2.22168774e-11   2.12419471e-11\n",
      "   2.03695474e-11   1.95593068e-11   1.88308704e-11   1.81560010e-11\n",
      "   1.75396242e-11   1.69799384e-11   1.64640433e-11   1.59931786e-11\n",
      "   1.55561690e-11   1.51553115e-11   1.47922884e-11   1.44572200e-11\n",
      "   1.41512363e-11   1.38712753e-11   1.36197650e-11   1.33845792e-11\n",
      "   1.31729056e-11   1.29849511e-11   1.28150364e-11   1.26664770e-11\n",
      "   1.25312987e-11   1.24172874e-11   1.23163017e-11   1.22337723e-11\n",
      "   1.21694084e-11   1.21145485e-11   1.20774693e-11]\n",
      "[  7.35835055e-07   9.10152135e-12   2.94258484e-10   1.72035551e-08\n",
      "   2.13793633e-07   2.34760199e-09   1.15089262e-09   6.98625814e-10\n",
      "   4.75388659e-10   3.39598574e-10   2.59741836e-10   2.06298073e-10\n",
      "   1.69319626e-10   1.40648149e-10   1.19381977e-10   1.02852550e-10\n",
      "   8.98350212e-11   7.91927485e-11   7.05959613e-11   6.32234570e-11\n",
      "   5.71126105e-11   5.19881616e-11   4.75164095e-11   4.36874515e-11\n",
      "   4.03620345e-11   3.74570805e-11   3.48860729e-11   3.26144408e-11\n",
      "   3.06021976e-11   2.88125684e-11   2.72006794e-11   2.57664591e-11\n",
      "   2.44683374e-11   2.32825022e-11   2.22168774e-11   2.12419471e-11\n",
      "   2.03695474e-11   1.95593068e-11   1.88308704e-11   1.81560010e-11\n",
      "   1.75396242e-11   1.69799384e-11   1.64640433e-11   1.59931786e-11\n",
      "   1.55561690e-11   1.51553115e-11   1.47922884e-11   1.44572200e-11\n",
      "   1.41512363e-11   1.38712753e-11   1.36197650e-11   1.33845792e-11\n",
      "   1.31729056e-11   1.29849511e-11   1.28150364e-11   1.26664770e-11\n",
      "   1.25312987e-11   1.24172874e-11   1.23163017e-11   1.22337723e-11\n",
      "   1.21694084e-11   1.21145485e-11   1.20774693e-11]\n"
     ]
    },
    {
     "data": {
      "image/png": "[encoded data removed]",
      "text/plain": [
       "<matplotlib.figure.Figure at 0x121cb3e10>"
      ]
     },
     "metadata": {},
     "output_type": "display_data"
    }
   ],
   "source": [
    "plt.loglog(kgridG,a1,'bo',label='slow')\n",
    "#plt.loglog(kgridG,b1,'yo',label='fast')\n",
    "print a1\n",
    "print b1\n",
    "#print kgridG/(2.*np.pi)"
   ]
  },
  {
   "cell_type": "code",
   "execution_count": 139,
   "metadata": {
    "collapsed": false
   },
   "outputs": [
    {
     "name": "stdout",
     "output_type": "stream",
     "text": [
      "[[ 1.  2.]\n",
      " [ 3.  4.]]\n",
      "[[ 3.  8.]\n",
      " [ 2.  9.]]\n",
      "[[  3.  16.]\n",
      " [  6.  36.]]\n"
     ]
    }
   ],
   "source": [
    "xg1=np.array([[1.,2.],[3.,4.]])\n",
    "xg2 = np.array([[3.,8.],[2.,9.]])\n",
    "print xg1\n",
    "print xg2\n",
    "print xg1*xg2\n",
    "#yg1=np.linspace(0.,1.,n)"
   ]
  },
  {
   "cell_type": "code",
   "execution_count": null,
   "metadata": {
    "collapsed": true
   },
   "outputs": [],
   "source": []
  }
 ],
 "metadata": {
  "kernelspec": {
   "display_name": "Python 2",
   "language": "python",
   "name": "python2"
  },
  "language_info": {
   "codemirror_mode": {
    "name": "ipython",
    "version": 2
   },
   "file_extension": ".py",
   "mimetype": "text/x-python",
   "name": "python",
   "nbconvert_exporter": "python",
   "pygments_lexer": "ipython2",
   "version": "2.7.11"
  }
 },
 "nbformat": 4,
 "nbformat_minor": 0
}
