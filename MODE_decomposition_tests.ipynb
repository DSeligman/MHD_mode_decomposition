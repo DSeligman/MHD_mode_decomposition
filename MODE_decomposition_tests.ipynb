{
 "cells": [
  {
   "cell_type": "code",
   "execution_count": 178,
   "metadata": {
    "collapsed": false
   },
   "outputs": [],
   "source": [
    "#This Notebook presents a code to do a decompositon onto Alfven Slow and Fast modes\n",
    "#Darryl Seligman version3 9/11/18\n",
    "#Adapted from version of code by Jonathan Squire\n",
    "%matplotlib inline\n",
    "\n",
    "import matplotlib\n",
    "import numpy as np\n",
    "import matplotlib.pyplot as plt\n",
    "from numpy.fft import *\n",
    "import sys\n",
    "sys.path.append('/Users/darrylseligman/Desktop/Flatiron/Phil/Initial_Magnetic_Simulations/PFH_python/pfh_python')\n",
    "from get_particle_hsml_ngb import *\n",
    "from grain_density_from_snapshot import *\n",
    "from example_plotting_routine import *\n",
    "def mode_decomp(Vx,Vy,Vz,beta):\n",
    "    #Form grid of K\n",
    "    n=Vx.shape[0]\n",
    "    \n",
    "    N=[n,n,n]\n",
    "    L=[1.,1.,1.]\n",
    "    if(n%2==0):\n",
    "        b=np.arange(0,N[0]/2)\n",
    "        bb = np.linspace(-N[0]/2.,-1,N[0]/2)\n",
    "    else:\n",
    "        print \"hello\"\n",
    "        b=np.arange(0,N[0]/2)\n",
    "        bb = np.linspace(-N[0]/2.,-1.5,N[0]/2)\n",
    "        bb=np.append(bb,[.5])\n",
    "    #Form k-space vectors for each dimension [0 1 2 3 ... N/2-1 -N/2 -N/2+1 ... -2 -1]*2*pi/L\n",
    "    \n",
    "    kx=  2*np.pi*1j/L[0]*np.concatenate((b,bb))\n",
    "    ky=  2*np.pi*1j/L[1]*np.concatenate((b,bb))\n",
    "    kz=  2*np.pi*1j/L[2]*np.concatenate((b,bb))\n",
    "   \n",
    "    #print kx.shape\n",
    "    #xg=np.linspace(0.,1.,n)\n",
    "    #yg=np.linspace(0.,1.,n)\n",
    "    #zg=np.linspace(0.,1.,n)\n",
    "    #x,y,az=np.meshgrid(xg,yg,zg,indexing='ij')\n",
    "    #3D arrays of k-space grid\n",
    "    KX,KY,KZ= np.meshgrid(kx,ky,kz)#,indexing='ij')\n",
    "    #grid of |K|, kperp (B0 is in x direction) and k_hat\n",
    "    Kmag = np.sqrt(abs(KX**2+KY**2+KZ**2))\n",
    "    Kperp = np.sqrt(abs(KY**2+KX**2))\n",
    "    #Kmag[0]=1.\n",
    "    khx = KX/Kmag;\n",
    "    khy = KY/Kmag;\n",
    "    khz = KZ/Kmag;\n",
    "    khx[np.isnan(khx)]=0.\n",
    "    khy[np.isnan(khy)]=0.\n",
    "    khz[np.isnan(khz)]=0.\n",
    "    #k-Grid for binning the spectra\n",
    "    kgrid = np.arange(0,max(ky.imag)+2.*np.pi/L[0],2.*np.pi/L[0])\n",
    "\n",
    "    kgridG = (kgrid[0:kgrid.size-1] +  kgrid[1:kgrid.size])/2;   \n",
    "    #Get B and V, take fourier transforms  \n",
    "    fVx = fftn(Vx);\n",
    "    fVy = fftn(Vy); \n",
    "    fVz = fftn(Vz);\n",
    "    # % Alfvenic part -- part of B and u in k*b_hat direction                                                                                                                                                                      \n",
    "    #% b_hat is x direction \n",
    "    kcbhz = 0;\n",
    "    kcbhy = (khx);\n",
    "    kcbhx =  - (khy);\n",
    "    #Alfvenic part of V, (k*bh).V \n",
    "    alfV =  kcbhy*fVy + kcbhx*fVx;\n",
    "    \n",
    "    #% Now decompose compressive part into fast and slow                                                                                                                                                                          \n",
    "    #% I think this is right, but never actually used this seriously  \n",
    "    \n",
    "    costh = abs(khz);\n",
    "    sinth = np.sqrt(1.-costh**2);\n",
    "    #costh[costh==0]=1.\n",
    "    #sinth[sinth==0]=1.\n",
    "    Kperp[Kperp==0]=1.;\n",
    "    #for strong beta regime A33 - A34\n",
    "    if(beta>1.e2):\n",
    "        thx = -sinth*np.sign(KX);\n",
    "        #thx = sinth*khx;\n",
    "        Kperp[Kperp==0]=1.;\n",
    "        thy = costh*(KY/Kperp);\n",
    "        thz = costh*(KZ/Kperp);\n",
    "        #% Slow wave part  \n",
    "        slowV = -thx*fVx - thy*fVy - thz*fVz + costh*sinth/beta*(khx*fVx + khy*fVy + khz*fVz);\n",
    "        #% Fast wave part  \n",
    "        fastV = costh*sinth/beta*(thx*fVx + thy*fVy + thz*fVz) + khx*fVx + khy*fVy + khz*fVz;\n",
    "    #General beta case A29 - A30\n",
    "    elif(beta<1.e-2):\n",
    "        alpha = beta/2.\n",
    "        fz = np.sum(abs(khz*fVz))\n",
    "        fxy = np.sum(abs((khy)*fVy + (khx)*fVx))\n",
    "        fracz = fz/(fz+fxy)\n",
    "        fracxy=fxy/(fz+fxy)\n",
    "        \n",
    "        \n",
    "        \n",
    "        #case of sin theta or cos theta =0\n",
    "        if((fz==0.) or (fxy==0.)):\n",
    "            slowV = ((khz*fVz)-costh*sinth*alpha*((khy)*fVy + (khx)*fVx))\n",
    "            fastV = (costh*sinth*alpha*(khz*fVz)-((khy)*fVy + (khx)*fVx))\n",
    "        else:   \n",
    "            slowV = ((khz*fVz)-costh*sinth*alpha*((khy)*fVy + (khx)*fVx))/(fracz-costh*sinth*alpha*fracxy)\n",
    "            fastV = (costh*sinth*alpha*(khz*fVz)-((khy)*fVy + (khx)*fVx))/(fracz*costh*sinth*alpha-fracz)\n",
    "        \n",
    "\n",
    "       \n",
    "        \n",
    "    else:\n",
    "        print \"hey!\"\n",
    "        alpha = beta/2.\n",
    "        D = np.array(((1.+alpha)**2-4.*alpha*costh*costh),dtype=complex)\n",
    "        #D=((1.+alpha)**2-4.*alpha*costh*costh)\n",
    "        #normalize\n",
    "        #SLOWVx = sinth*(1.+alpha-np.sqrt(D))\n",
    "        #SLOWVy = sinth*(1.+alpha-np.sqrt(D))\n",
    "        #SLOWVz = costh*(-1.+alpha-np.sqrt(D))\n",
    "        \n",
    "        SLOWVx = khx*(1.+alpha-np.sqrt(D))\n",
    "        SLOWVy = khy*(1.+alpha-np.sqrt(D))\n",
    "        SLOWVz = khz*(-1.+alpha-np.sqrt(D))\n",
    "        \n",
    "        slowVmag = np.sqrt(abs(SLOWVx**2+SLOWVy**2+SLOWVz**2))\n",
    "        slowVx = SLOWVx/slowVmag\n",
    "        slowVy = SLOWVy/slowVmag\n",
    "        slowVz = SLOWVz/slowVmag\n",
    "        slowV = (slowVx*fVx + slowVy*fVy + slowVz*fVz)\n",
    "        \n",
    "        slowV[np.isnan(slowV)]=0.\n",
    "        #now for the fast\n",
    "        FASTVx = khx*(1.+alpha+np.sqrt(D))\n",
    "        FASTVy = khy*(1.+alpha+np.sqrt(D))\n",
    "        FASTVz = khz*(-1.+alpha+np.sqrt(D))\n",
    "        fastVmag = np.sqrt(abs(FASTVx**2+FASTVy**2+FASTVz**2))\n",
    "        fastVx = FASTVx/fastVmag\n",
    "        fastVy = FASTVy/fastVmag\n",
    "        fastVz = FASTVz/fastVmag\n",
    "        \n",
    "        \n",
    "        fastV = (fastVx*fVx + fastVy*fVy + fastVz*fVz)\n",
    "        fastV[np.isnan(fastV)]=0.\n",
    "        #fastV= ((-1.+alpha+np.sqrt(D))*(khz*fVz)*costh+(1.+alpha+np.sqrt(D))*((khy)*fVy + (khx)*fVx)*sinth)#/(costh*(-1.+alpha+np.sqrt(D))*fracz+sinth*(1.+alpha+np.sqrt(D))*fracxy)\n",
    "        \n",
    "        \n",
    "        \n",
    "        \n",
    "    alfVIso = spect1D((alfV),Kmag,kgrid)\n",
    "    #VIso = spect1D(fVx,Kmag,kgrid) + spect1D(fVy,Kmag,kgrid) + spect1D(fVz,Kmag,kgrid); #% velocity spectrum\n",
    "    #SpFIso =spect1D(cmpVx,Kmag,kgrid) + spect1D(cmpVy,Kmag,kgrid) + spect1D(cmpVz,Kmag,kgrid); #% Compressive part (slow+fast) of the velocity\n",
    "    slowVIso = spect1D((slowV),Kmag,kgrid); #% Slow mode part\n",
    "    fastVIso = spect1D((fastV),Kmag,kgrid); #% Fast mode part\n",
    "    #VIso1 = spect1D((thetapart),Kmag,kgrid)\n",
    "    #VIso2 = spect1D((khatpart),Kmag,kgrid)\n",
    "    return(kgridG,alfVIso,fastVIso,slowVIso)\n",
    "def spect1D(v1,K,kgrid):\n",
    "    # % Function to find the spectrum <v1^2>,\n",
    "    #% K is the kgrid associated with v1\n",
    "    #% kgrid is the grid for spectral shell binning\n",
    "    nk = len(kgrid)-1;\n",
    "    print nk\n",
    "    out1 = np.zeros((nk))\n",
    "    NT2 = K.size**2;\n",
    "    for kk in np.arange(nk):\n",
    "\n",
    "        out1[kk]= np.sum(abs(v1[(K<=kgrid[kk+1]) & (K>=kgrid[kk])])**2 )/NT2;\n",
    "\n",
    "    return out1    "
   ]
  },
  {
   "cell_type": "code",
   "execution_count": 159,
   "metadata": {
    "collapsed": false
   },
   "outputs": [
    {
     "name": "stderr",
     "output_type": "stream",
     "text": [
      "/anaconda/lib/python2.7/site-packages/ipykernel/__main__.py:46: RuntimeWarning: invalid value encountered in divide\n",
      "/anaconda/lib/python2.7/site-packages/ipykernel/__main__.py:47: RuntimeWarning: invalid value encountered in divide\n",
      "/anaconda/lib/python2.7/site-packages/ipykernel/__main__.py:48: RuntimeWarning: invalid value encountered in divide\n"
     ]
    },
    {
     "name": "stdout",
     "output_type": "stream",
     "text": [
      "hey!\n"
     ]
    },
    {
     "name": "stderr",
     "output_type": "stream",
     "text": [
      "/anaconda/lib/python2.7/site-packages/ipykernel/__main__.py:122: RuntimeWarning: invalid value encountered in divide\n",
      "/anaconda/lib/python2.7/site-packages/ipykernel/__main__.py:123: RuntimeWarning: invalid value encountered in divide\n",
      "/anaconda/lib/python2.7/site-packages/ipykernel/__main__.py:124: RuntimeWarning: invalid value encountered in divide\n",
      "/anaconda/lib/python2.7/site-packages/ipykernel/__main__.py:133: RuntimeWarning: invalid value encountered in divide\n",
      "/anaconda/lib/python2.7/site-packages/ipykernel/__main__.py:134: RuntimeWarning: invalid value encountered in divide\n",
      "/anaconda/lib/python2.7/site-packages/ipykernel/__main__.py:135: RuntimeWarning: invalid value encountered in divide\n"
     ]
    },
    {
     "name": "stdout",
     "output_type": "stream",
     "text": [
      "63\n",
      "63\n",
      "63\n"
     ]
    },
    {
     "data": {
      "text/plain": [
       "<matplotlib.text.Text at 0x10c0d7910>"
      ]
     },
     "execution_count": 159,
     "metadata": {},
     "output_type": "execute_result"
    },
    {
     "data": {
      "image/png": "[encoded data removed]",
      "text/plain": [
       "<matplotlib.figure.Figure at 0x110303ad0>"
      ]
     },
     "metadata": {},
     "output_type": "display_data"
    }
   ],
   "source": [
    "#Test for a linear purely Alfvenic Mode\n",
    "#can experimenet with changing beta\n",
    "beta=1.;\n",
    "#experiment with changing NN - changes peak of power\n",
    "NN=5.\n",
    "n=128\n",
    "xg=np.linspace(0.,1.,n)\n",
    "yg=np.linspace(0.,1.,n)\n",
    "zg=np.linspace(0.,1.,n)\n",
    "x,y,z=np.meshgrid(xg,yg,zg)#,indexing='ij')\n",
    "Vx = np.zeros((n,n,n))\n",
    "Vz = np.zeros((n,n,n))#+.01*np.random.rand(n,n,n)\n",
    "\n",
    "Vy = 10.1*np.sin(2.*NN*np.pi*x)\n",
    "\n",
    "kgridG,alfVIso,fastVIso,slowVIso=mode_decomp(Vx,Vy,Vz,beta)\n",
    "#plt.loglog(kgridG,viso,'ko',label='viso')\n",
    "plt.loglog(kgridG,alfVIso,'bo',label='alfven')\n",
    "plt.loglog(kgridG,slowVIso,'ro',label='slow')\n",
    "plt.loglog(kgridG,fastVIso,'yo',label='fast')\n",
    "plt.legend()\n",
    "plt.xlabel('k')\n",
    "plt.ylabel('power')\n",
    "plt.title('Purely Alfvenic Mode ')"
   ]
  },
  {
   "cell_type": "code",
   "execution_count": 160,
   "metadata": {
    "collapsed": false
   },
   "outputs": [
    {
     "name": "stderr",
     "output_type": "stream",
     "text": [
      "/anaconda/lib/python2.7/site-packages/ipykernel/__main__.py:46: RuntimeWarning: invalid value encountered in divide\n",
      "/anaconda/lib/python2.7/site-packages/ipykernel/__main__.py:47: RuntimeWarning: invalid value encountered in divide\n",
      "/anaconda/lib/python2.7/site-packages/ipykernel/__main__.py:48: RuntimeWarning: invalid value encountered in divide\n"
     ]
    },
    {
     "name": "stdout",
     "output_type": "stream",
     "text": [
      "hey!\n"
     ]
    },
    {
     "name": "stderr",
     "output_type": "stream",
     "text": [
      "/anaconda/lib/python2.7/site-packages/ipykernel/__main__.py:122: RuntimeWarning: invalid value encountered in divide\n",
      "/anaconda/lib/python2.7/site-packages/ipykernel/__main__.py:123: RuntimeWarning: invalid value encountered in divide\n",
      "/anaconda/lib/python2.7/site-packages/ipykernel/__main__.py:124: RuntimeWarning: invalid value encountered in divide\n",
      "/anaconda/lib/python2.7/site-packages/ipykernel/__main__.py:133: RuntimeWarning: invalid value encountered in divide\n",
      "/anaconda/lib/python2.7/site-packages/ipykernel/__main__.py:134: RuntimeWarning: invalid value encountered in divide\n",
      "/anaconda/lib/python2.7/site-packages/ipykernel/__main__.py:135: RuntimeWarning: invalid value encountered in divide\n"
     ]
    },
    {
     "name": "stdout",
     "output_type": "stream",
     "text": [
      "63\n",
      "63\n",
      "63\n",
      "[  1.71121856e-03   1.88826966e-02   5.05286384e+01   5.05501813e+01\n",
      "   5.00476387e-02   1.70352628e-02   9.23517259e-03   5.97673333e-03\n",
      "   4.25211490e-03   3.21058193e-03   2.52598986e-03   2.04857859e-03\n",
      "   1.70074068e-03   1.43859669e-03   1.23564525e-03   1.07503048e-03\n",
      "   9.45574488e-04   8.39605317e-04   7.51703128e-04   6.77943824e-04\n",
      "   6.15425411e-04   5.61961763e-04   5.15879051e-04   4.75877094e-04\n",
      "   4.40932863e-04   4.10232043e-04   3.83119640e-04   3.59063784e-04\n",
      "   3.37628836e-04   3.18455136e-04   3.01243583e-04   2.85743769e-04\n",
      "   2.71744748e-04   2.59067802e-04   2.47560709e-04   2.37093181e-04\n",
      "   2.27553189e-04   2.18844003e-04   2.10881773e-04   2.03593552e-04\n",
      "   1.96915666e-04   1.90792370e-04   1.85174724e-04   1.80019655e-04\n",
      "   1.75289174e-04   1.70949712e-04   1.66971557e-04   1.63328383e-04\n",
      "   1.59996845e-04   1.56956230e-04   1.54188167e-04   1.51676371e-04\n",
      "   1.49406429e-04   1.47365611e-04   1.45542712e-04   1.43927918e-04\n",
      "   1.42512685e-04   1.41289642e-04   1.40252507e-04   1.39396018e-04\n",
      "   1.38715871e-04   1.38208679e-04   1.37871932e-04]\n"
     ]
    },
    {
     "data": {
      "image/png": "[encoded data removed]",
      "text/plain": [
       "<matplotlib.figure.Figure at 0x11034af50>"
      ]
     },
     "metadata": {},
     "output_type": "display_data"
    }
   ],
   "source": [
    "#test just a fast wave \n",
    "# Frank Shu Gas Dynamics page 307 example b - k perp to B_0 - then the slow velocity is zero\n",
    "beta=1.;\n",
    "#units alfven speed = 1\n",
    "NN = 3.\n",
    "\n",
    "xg=np.linspace(0.,1.,n)\n",
    "yg=np.linspace(0.,1.,n)\n",
    "zg=np.linspace(0.,1.,n)\n",
    "x,y,z=np.meshgrid(xg,yg,zg)#,indexing='ij')\n",
    "\n",
    "xpart=1.#.01\n",
    "zpart=np.sqrt(1.-xpart**2)\n",
    "Vy = np.zeros((n,n,n))\n",
    "Vz =np.zeros((n,n,n))\n",
    "Vx = 10.1*np.sin(2.*NN*np.pi*(xpart*x+zpart*z))\n",
    "\n",
    "\n",
    "\n",
    "kgridG,alfVIso,fastVIso,slowVIso=mode_decomp(Vx,Vy,Vz,beta)\n",
    "plt.loglog(kgridG,fastVIso,'yo',label='fast')\n",
    "plt.loglog(kgridG,alfVIso,'bo',label='alfven')\n",
    "plt.loglog(kgridG,slowVIso,'ro',label='slow')\n",
    "\n",
    "#plt.yscale('log')\n",
    "\n",
    "plt.legend(loc='upper left')\n",
    "plt.xlabel('k')\n",
    "plt.ylabel('power')\n",
    "plt.title('Purely Fast Mode ')\n",
    "print fastVIso"
   ]
  },
  {
   "cell_type": "code",
   "execution_count": 161,
   "metadata": {
    "collapsed": false
   },
   "outputs": [
    {
     "name": "stderr",
     "output_type": "stream",
     "text": [
      "/anaconda/lib/python2.7/site-packages/ipykernel/__main__.py:46: RuntimeWarning: invalid value encountered in divide\n",
      "/anaconda/lib/python2.7/site-packages/ipykernel/__main__.py:47: RuntimeWarning: invalid value encountered in divide\n",
      "/anaconda/lib/python2.7/site-packages/ipykernel/__main__.py:48: RuntimeWarning: invalid value encountered in divide\n"
     ]
    },
    {
     "name": "stdout",
     "output_type": "stream",
     "text": [
      "hey!\n"
     ]
    },
    {
     "name": "stderr",
     "output_type": "stream",
     "text": [
      "/anaconda/lib/python2.7/site-packages/ipykernel/__main__.py:122: RuntimeWarning: invalid value encountered in divide\n",
      "/anaconda/lib/python2.7/site-packages/ipykernel/__main__.py:123: RuntimeWarning: invalid value encountered in divide\n",
      "/anaconda/lib/python2.7/site-packages/ipykernel/__main__.py:124: RuntimeWarning: invalid value encountered in divide\n",
      "/anaconda/lib/python2.7/site-packages/ipykernel/__main__.py:133: RuntimeWarning: invalid value encountered in divide\n",
      "/anaconda/lib/python2.7/site-packages/ipykernel/__main__.py:134: RuntimeWarning: invalid value encountered in divide\n",
      "/anaconda/lib/python2.7/site-packages/ipykernel/__main__.py:135: RuntimeWarning: invalid value encountered in divide\n"
     ]
    },
    {
     "name": "stdout",
     "output_type": "stream",
     "text": [
      "63\n",
      "63\n",
      "63\n",
      "[  1.67750080e-03   1.85106329e-02   4.95330246e+01   4.95541430e+01\n",
      "   4.90615025e-02   1.66996009e-02   9.05320320e-03   5.85896807e-03\n",
      "   4.16833144e-03   3.14732079e-03   2.47621788e-03   2.00821350e-03\n",
      "   1.66722937e-03   1.41025065e-03   1.21129815e-03   1.05384813e-03\n",
      "   9.26942935e-04   8.23061775e-04   7.36891607e-04   6.64585653e-04\n",
      "   6.03299099e-04   5.50888896e-04   5.05714196e-04   4.66500435e-04\n",
      "   4.32244744e-04   4.02148852e-04   3.75570669e-04   3.51988809e-04\n",
      "   3.30976214e-04   3.12180312e-04   2.95307894e-04   2.80113488e-04\n",
      "   2.66390303e-04   2.53963143e-04   2.42682785e-04   2.32421508e-04\n",
      "   2.23069492e-04   2.14531912e-04   2.06726569e-04   1.99581955e-04\n",
      "   1.93035649e-04   1.87033007e-04   1.81526050e-04   1.76472557e-04\n",
      "   1.71835285e-04   1.67581327e-04   1.63681557e-04   1.60110169e-04\n",
      "   1.56844275e-04   1.53863572e-04   1.51150051e-04   1.48687747e-04\n",
      "   1.46462532e-04   1.44461926e-04   1.42674946e-04   1.41091970e-04\n",
      "   1.39704622e-04   1.38505678e-04   1.37488979e-04   1.36649366e-04\n",
      "   1.35982620e-04   1.35485422e-04   1.35155310e-04]\n"
     ]
    },
    {
     "data": {
      "image/png": "[encoded data removed]",
      "text/plain": [
       "<matplotlib.figure.Figure at 0x110368150>"
      ]
     },
     "metadata": {},
     "output_type": "display_data"
    }
   ],
   "source": [
    "#Mixed Alfven and Fast Test - so we know that the ratios are correct\n",
    "\n",
    "beta=1.;\n",
    "#units alfven speed = 1\n",
    "NN = 3.\n",
    "\n",
    "xg=np.linspace(0.,1.,n)\n",
    "yg=np.linspace(0.,1.,n)\n",
    "zg=np.linspace(0.,1.,n)\n",
    "x,y,z=np.meshgrid(xg,yg,zg)#,indexing='ij')\n",
    "\n",
    "xpart=1.#.01\n",
    "zpart=np.sqrt(1.-xpart**2)\n",
    "\n",
    "Vz =np.zeros((n,n,n))\n",
    "Vy = 1.*np.sin(2.*NN*np.pi*x)\n",
    "Vx = 10.*np.sin(2.*NN*np.pi*(xpart*x+zpart*z))\n",
    "\n",
    "\n",
    "\n",
    "kgridG,alfVIso,fastVIso,slowVIso=mode_decomp(Vx,Vy,Vz,beta)\n",
    "plt.loglog(kgridG,fastVIso,'ys',label='fast')\n",
    "plt.loglog(kgridG,alfVIso,'bo',label='alfven',alpha=.4)\n",
    "plt.loglog(kgridG,slowVIso,'ro',label='slow')\n",
    "\n",
    "#plt.yscale('log')\n",
    "\n",
    "plt.legend(loc='upper left')\n",
    "plt.xlabel('k')\n",
    "plt.ylabel('power')\n",
    "plt.title('Mixed Alfven and Fast ')\n",
    "print fastVIso"
   ]
  },
  {
   "cell_type": "code",
   "execution_count": 162,
   "metadata": {
    "collapsed": false
   },
   "outputs": [
    {
     "name": "stdout",
     "output_type": "stream",
     "text": [
      "[ 100.  100.  100.  100.  100.  100.  100.  100.  100.  100.  100.  100.\n",
      "  100.  100.  100.  100.  100.  100.  100.  100.  100.  100.  100.  100.\n",
      "  100.  100.  100.  100.  100.  100.  100.  100.  100.  100.  100.  100.\n",
      "  100.  100.  100.  100.  100.  100.  100.  100.  100.  100.  100.  100.\n",
      "  100.  100.  100.  100.  100.  100.  100.  100.  100.  100.  100.  100.\n",
      "  100.  100.  100.]\n"
     ]
    }
   ],
   "source": [
    "print fastVIso/alfVIso\n"
   ]
  },
  {
   "cell_type": "code",
   "execution_count": 163,
   "metadata": {
    "collapsed": false
   },
   "outputs": [
    {
     "name": "stderr",
     "output_type": "stream",
     "text": [
      "/anaconda/lib/python2.7/site-packages/ipykernel/__main__.py:46: RuntimeWarning: invalid value encountered in divide\n",
      "/anaconda/lib/python2.7/site-packages/ipykernel/__main__.py:47: RuntimeWarning: invalid value encountered in divide\n",
      "/anaconda/lib/python2.7/site-packages/ipykernel/__main__.py:48: RuntimeWarning: invalid value encountered in divide\n"
     ]
    },
    {
     "name": "stdout",
     "output_type": "stream",
     "text": [
      "hey!\n"
     ]
    },
    {
     "name": "stderr",
     "output_type": "stream",
     "text": [
      "/anaconda/lib/python2.7/site-packages/ipykernel/__main__.py:122: RuntimeWarning: invalid value encountered in divide\n",
      "/anaconda/lib/python2.7/site-packages/ipykernel/__main__.py:123: RuntimeWarning: invalid value encountered in divide\n",
      "/anaconda/lib/python2.7/site-packages/ipykernel/__main__.py:124: RuntimeWarning: invalid value encountered in divide\n",
      "/anaconda/lib/python2.7/site-packages/ipykernel/__main__.py:133: RuntimeWarning: invalid value encountered in divide\n",
      "/anaconda/lib/python2.7/site-packages/ipykernel/__main__.py:134: RuntimeWarning: invalid value encountered in divide\n",
      "/anaconda/lib/python2.7/site-packages/ipykernel/__main__.py:135: RuntimeWarning: invalid value encountered in divide\n"
     ]
    },
    {
     "name": "stdout",
     "output_type": "stream",
     "text": [
      "63\n",
      "63\n",
      "63\n"
     ]
    },
    {
     "data": {
      "text/plain": [
       "<matplotlib.text.Text at 0x10e189e90>"
      ]
     },
     "execution_count": 163,
     "metadata": {},
     "output_type": "execute_result"
    },
    {
     "data": {
      "image/png": "[encoded data removed]",
      "text/plain": [
       "<matplotlib.figure.Figure at 0x112c2d390>"
      ]
     },
     "metadata": {},
     "output_type": "display_data"
    }
   ],
   "source": [
    "#now test a slow mode and fast mode\n",
    "beta=1.;\n",
    "#units alfven speed = 1\n",
    "NN = 35.\n",
    "\n",
    "xg=np.linspace(0.,1.,n)\n",
    "yg=np.linspace(0.,1.,n)\n",
    "zg=np.linspace(0.,1.,n)\n",
    "x,y,z=np.meshgrid(xg,yg,zg)#,indexing='ij')\n",
    "\n",
    "xpart=.6#.01\n",
    "zpart=np.sqrt(1.-xpart**2)\n",
    "Vy = np.zeros((n,n,n))\n",
    "Vz =np.zeros((n,n,n))\n",
    "Vx = 10.1*np.sin(2.*NN*np.pi*(xpart*x+zpart*z))\n",
    "\n",
    "\n",
    "kgridG,alfVIso,fastVIso,slowVIso=mode_decomp(Vx,Vy,Vz,beta)\n",
    "plt.loglog(kgridG,fastVIso,'ko',label='fast')\n",
    "plt.loglog(kgridG,alfVIso,'bo',label='alfven')\n",
    "plt.loglog(kgridG,slowVIso,'ro',label='slow')\n",
    "\n",
    "#plt.yscale('log')\n",
    "\n",
    "plt.legend(loc='upper left')\n",
    "plt.xlabel('k')\n",
    "plt.ylabel('power')\n",
    "plt.title('Mixed Slow Fast')"
   ]
  },
  {
   "cell_type": "code",
   "execution_count": 201,
   "metadata": {
    "collapsed": false
   },
   "outputs": [
    {
     "name": "stdout",
     "output_type": "stream",
     "text": [
      "2.05817102727\n",
      "0.485868271757\n"
     ]
    },
    {
     "name": "stderr",
     "output_type": "stream",
     "text": [
      "/anaconda/lib/python2.7/site-packages/ipykernel/__main__.py:46: RuntimeWarning: invalid value encountered in divide\n",
      "/anaconda/lib/python2.7/site-packages/ipykernel/__main__.py:47: RuntimeWarning: invalid value encountered in divide\n",
      "/anaconda/lib/python2.7/site-packages/ipykernel/__main__.py:48: RuntimeWarning: invalid value encountered in divide\n"
     ]
    },
    {
     "name": "stdout",
     "output_type": "stream",
     "text": [
      "hey!\n"
     ]
    },
    {
     "name": "stderr",
     "output_type": "stream",
     "text": [
      "/anaconda/lib/python2.7/site-packages/ipykernel/__main__.py:123: RuntimeWarning: invalid value encountered in divide\n",
      "/anaconda/lib/python2.7/site-packages/ipykernel/__main__.py:124: RuntimeWarning: invalid value encountered in divide\n",
      "/anaconda/lib/python2.7/site-packages/ipykernel/__main__.py:125: RuntimeWarning: invalid value encountered in divide\n",
      "/anaconda/lib/python2.7/site-packages/ipykernel/__main__.py:134: RuntimeWarning: invalid value encountered in divide\n",
      "/anaconda/lib/python2.7/site-packages/ipykernel/__main__.py:135: RuntimeWarning: invalid value encountered in divide\n",
      "/anaconda/lib/python2.7/site-packages/ipykernel/__main__.py:136: RuntimeWarning: invalid value encountered in divide\n"
     ]
    },
    {
     "name": "stdout",
     "output_type": "stream",
     "text": [
      "63\n",
      "63\n",
      "63\n",
      "[ 1.61803399  3.67754828  3.36517345  2.68603279  2.32867904  2.11830847\n",
      "  1.95484681  1.8759094   1.81953089  1.77709674  1.74795231  1.7250886\n",
      "  1.70911714  1.69479848  1.68398873  1.67523008  1.66803312  1.66196467\n",
      "  1.65703252  1.65251978  1.64885562  1.64564765  1.64288562  1.64046867\n",
      "  1.63830492  1.63641352  1.63472287  1.63325993  1.63189756  1.63063061\n",
      "  1.62959661  1.62856639  1.62772164  1.62685939  1.62609249  1.62547938\n",
      "  1.65753145  1.65837998  1.62362288  1.62316329  1.62274294  1.62226447\n",
      "  1.62188981  1.62147876  1.62115083  1.62086188  1.62051684  1.62024018\n",
      "  1.61994912  1.6196749   1.61939708  1.61920596  1.61903128  1.61878551\n",
      "  1.61861064  1.61836986  1.61823805  1.61803111  1.61788977  1.61771721\n",
      "  1.61753492  1.61742218  1.61727535]\n"
     ]
    },
    {
     "data": {
      "image/png": "[encoded data removed]",
      "text/plain": [
       "<matplotlib.figure.Figure at 0x10be8b410>"
      ]
     },
     "metadata": {},
     "output_type": "display_data"
    }
   ],
   "source": [
    "#new test - just set theta, solve for ratios\n",
    "beta=1.;\n",
    "NN=2.\n",
    "n=128\n",
    "xg=np.linspace(0.,1.,n)\n",
    "yg=np.linspace(0.,1.,n)\n",
    "zg=np.linspace(0.,1.,n)\n",
    "x,y,z=np.meshgrid(xg,yg,zg)\n",
    "\n",
    "theta = np.pi/4.\n",
    "\n",
    "\n",
    "k = 2.*np.pi*NN\n",
    "kx = 2.*np.pi*NN*np.sin(theta)\n",
    "kz = 2.*np.pi*NN*np.cos(theta)\n",
    "\n",
    "\n",
    "alpha= beta/2.\n",
    "D=((1.+alpha)**2-4.*alpha*np.cos(theta)*np.cos(theta))\n",
    "xzratio_fast = ((1.+alpha+np.sqrt(D))/(-1.+alpha+np.sqrt(D)))**(.5)\n",
    "print xzratio_fast\n",
    "\n",
    "xzratio_slow = (abs((1.+alpha-np.sqrt(D))/(-1.+alpha-np.sqrt(D))))**(.5)\n",
    "\n",
    "print xzratio_slow\n",
    "\n",
    "#fast wave\n",
    "Vz = np.sin(kx*x+kz*z)\n",
    "Vx = xzratio_fast*np.sin(kx*x+kz*z)\n",
    "\n",
    "#slow wave\n",
    "Vz += np.sin(kx*x+kz*z)\n",
    "Vx+= xzratio_slow*np.sin(kx*x+kz*z)\n",
    "Vy = np.zeros((n,n,n))\n",
    "kgridG,alfVIso,fastVIso,slowVIso=mode_decomp(Vx,Vy,Vz,beta)\n",
    "\n",
    "print fastVIso/slowVIso\n",
    " \n",
    "\n",
    "plt.loglog(kgridG,slowVIso,'ro',label='slow')\n",
    "plt.loglog(kgridG,fastVIso,'yo',label='fast')\n",
    "plt.legend()\n",
    "plt.xlabel('k')\n",
    "plt.ylabel('power')\n",
    "plt.title('Slow Fast Equal Amplitude Mode ')\n",
    "plt.savefig('slowfast_equal.pdf')"
   ]
  },
  {
   "cell_type": "code",
   "execution_count": 169,
   "metadata": {
    "collapsed": false
   },
   "outputs": [
    {
     "name": "stdout",
     "output_type": "stream",
     "text": [
      "0.541196100146\n",
      "1.30656296488\n",
      "2.41421356237\n",
      "fast ratio\n",
      "-2.41421356237\n",
      "slow ratio\n",
      "0.414213562373\n"
     ]
    },
    {
     "name": "stderr",
     "output_type": "stream",
     "text": [
      "/anaconda/lib/python2.7/site-packages/ipykernel/__main__.py:46: RuntimeWarning: invalid value encountered in divide\n",
      "/anaconda/lib/python2.7/site-packages/ipykernel/__main__.py:47: RuntimeWarning: invalid value encountered in divide\n",
      "/anaconda/lib/python2.7/site-packages/ipykernel/__main__.py:48: RuntimeWarning: invalid value encountered in divide\n"
     ]
    },
    {
     "name": "stdout",
     "output_type": "stream",
     "text": [
      "hey!\n"
     ]
    },
    {
     "name": "stderr",
     "output_type": "stream",
     "text": [
      "/anaconda/lib/python2.7/site-packages/ipykernel/__main__.py:122: RuntimeWarning: invalid value encountered in divide\n",
      "/anaconda/lib/python2.7/site-packages/ipykernel/__main__.py:123: RuntimeWarning: invalid value encountered in divide\n",
      "/anaconda/lib/python2.7/site-packages/ipykernel/__main__.py:124: RuntimeWarning: invalid value encountered in divide\n",
      "/anaconda/lib/python2.7/site-packages/ipykernel/__main__.py:133: RuntimeWarning: invalid value encountered in divide\n",
      "/anaconda/lib/python2.7/site-packages/ipykernel/__main__.py:134: RuntimeWarning: invalid value encountered in divide\n",
      "/anaconda/lib/python2.7/site-packages/ipykernel/__main__.py:135: RuntimeWarning: invalid value encountered in divide\n"
     ]
    },
    {
     "name": "stdout",
     "output_type": "stream",
     "text": [
      "63\n",
      "63\n",
      "63\n",
      "[  5.82842712   7.86053858   9.46982272  12.57502482  23.85360304\n",
      "  30.03919521  22.92824464  17.64107577  13.61941672  10.56141086\n",
      "   9.5481119    8.72463959   8.32174492   7.81490096   7.50983819\n",
      "   7.2637006    7.07134683   6.90629675   6.786638     6.66039598\n",
      "   6.56333251   6.48752685   6.41180775   6.35120669   6.30367311\n",
      "   6.25771094   6.2094608    6.17179348   6.13928585   6.11068544\n",
      "   6.08301828   6.05951611   6.03760556   6.01662907   5.99845345\n",
      "   5.98109493   5.9734285    5.95897269   5.93871212   5.92630548\n",
      "   5.91509732   5.90458105   5.89438277   5.88520569   5.87648158\n",
      "   5.86833631   5.86069487   5.85349024   5.84665436   5.84017628\n",
      "   5.83397829   5.82819165   5.82273155   5.81738894   5.8123862    5.807411\n",
      "   5.80290382   5.79831357   5.79413197   5.7899433    5.78573125\n",
      "   5.78204801   5.77828621]\n"
     ]
    },
    {
     "data": {
      "image/png": "[encoded data removed]",
      "text/plain": [
       "<matplotlib.figure.Figure at 0x11446a210>"
      ]
     },
     "metadata": {},
     "output_type": "display_data"
    }
   ],
   "source": [
    "# new mixed slow fast mode test based on Jono's notes\n",
    "beta=1.;\n",
    "NN=5.\n",
    "n=128\n",
    "xg=np.linspace(0.,1.,n)\n",
    "yg=np.linspace(0.,1.,n)\n",
    "zg=np.linspace(0.,1.,n)\n",
    "x,y,z=np.meshgrid(xg,yg,zg)\n",
    "\n",
    "theta = np.pi/4.\n",
    "\n",
    "k = 2.*np.pi*NN\n",
    "kx = 2.*np.pi*NN*np.sin(theta)\n",
    "kz = 2.*np.pi*NN*np.cos(theta)\n",
    "\n",
    "#1/beta\n",
    "b0= 1./beta\n",
    "vs = np.sqrt(.5*(1.+b0**2-((1.+b0**2)**2-4.*b0**2*kz**2/k**2)**.5))\n",
    "vf = np.sqrt(.5*(1.+b0**2+((1.+b0**2)**2-4.*b0**2*kz**2/k**2)**.5))\n",
    "print vs\n",
    "print vf\n",
    "print vf/vs\n",
    "#fast wave\n",
    "Vx = -kx*k*vf*np.sin(kx*x+kz*z)\n",
    "Vz = -vf*k/kz*(-kz**2+k**2*vs**2)*np.sin(kx*x+kz*z)\n",
    "\n",
    "#slow wave\n",
    "Vx += -kx*k*vs*np.sin(kx*x+kz*z)\n",
    "Vz += -vs*k/kz*(-kz**2+k**2*vf**2)*np.sin(kx*x+kz*z)\n",
    "\n",
    "print \"fast ratio\"\n",
    "print (-kx*k*vf)/(-vf*k/kz*(-kz**2+k**2*vs**2))\n",
    "print \"slow ratio\"\n",
    "print (-kx*k*vs)/(-vs*k/kz*(-kz**2+k**2*vf**2))\n",
    "\n",
    "Vy = np.zeros((n,n,n))\n",
    "\n",
    "kgridG,alfVIso,fastVIso,slowVIso=mode_decomp(Vx,Vy,Vz,beta)\n",
    "\n",
    "print fastVIso/slowVIso\n",
    " \n",
    "\n",
    "plt.loglog(kgridG,slowVIso,'ro',label='slow')\n",
    "plt.loglog(kgridG,fastVIso,'yo',label='fast')\n",
    "plt.legend()\n",
    "plt.xlabel('k')\n",
    "plt.ylabel('power')\n",
    "plt.title('Slow Fast Equal Amplitude Mode ')\n",
    "plt.savefig('slowfast_equal.pdf')"
   ]
  },
  {
   "cell_type": "code",
   "execution_count": 145,
   "metadata": {
    "collapsed": false
   },
   "outputs": [
    {
     "name": "stderr",
     "output_type": "stream",
     "text": [
      "/anaconda/lib/python2.7/site-packages/ipykernel/__main__.py:46: RuntimeWarning: invalid value encountered in divide\n",
      "/anaconda/lib/python2.7/site-packages/ipykernel/__main__.py:47: RuntimeWarning: invalid value encountered in divide\n",
      "/anaconda/lib/python2.7/site-packages/ipykernel/__main__.py:48: RuntimeWarning: invalid value encountered in divide\n"
     ]
    },
    {
     "name": "stdout",
     "output_type": "stream",
     "text": [
      "hey!\n"
     ]
    },
    {
     "name": "stderr",
     "output_type": "stream",
     "text": [
      "/anaconda/lib/python2.7/site-packages/ipykernel/__main__.py:122: RuntimeWarning: invalid value encountered in divide\n",
      "/anaconda/lib/python2.7/site-packages/ipykernel/__main__.py:123: RuntimeWarning: invalid value encountered in divide\n",
      "/anaconda/lib/python2.7/site-packages/ipykernel/__main__.py:124: RuntimeWarning: invalid value encountered in divide\n",
      "/anaconda/lib/python2.7/site-packages/ipykernel/__main__.py:133: RuntimeWarning: invalid value encountered in divide\n",
      "/anaconda/lib/python2.7/site-packages/ipykernel/__main__.py:134: RuntimeWarning: invalid value encountered in divide\n",
      "/anaconda/lib/python2.7/site-packages/ipykernel/__main__.py:135: RuntimeWarning: invalid value encountered in divide\n"
     ]
    },
    {
     "name": "stdout",
     "output_type": "stream",
     "text": [
      "63\n",
      "63\n",
      "63\n",
      "[ 0.28776075  0.41060495  0.4686604   0.56574262  0.71428965  0.75246224\n",
      "  0.70850728  0.65763787  0.59838148  0.52508213  0.4929087   0.46232621\n",
      "  0.44537745  0.42189223  0.40637416  0.3930373   0.3820221   0.37210231\n",
      "  0.36469688  0.35647012  0.34998842  0.3448035   0.33947938  0.33513384\n",
      "  0.33172106  0.32834094  0.3246447   0.32176272  0.31925993  0.31705169\n",
      "  0.31485784  0.31301693  0.31127531  0.30956314  0.30810175  0.30665667\n",
      "  0.31266604  0.31171604  0.30322266  0.30217944  0.30125676  0.3004017\n",
      "  0.29951671  0.29877256  0.29803078  0.29733006  0.2967088   0.29610396\n",
      "  0.29553888  0.29501784  0.29453637  0.29401177  0.29353801  0.29311322\n",
      "  0.2926921   0.29231269  0.29191901  0.2915696   0.29121305  0.29088448\n",
      "  0.29057747  0.29025691  0.28996174]\n",
      "\n"
     ]
    },
    {
     "data": {
      "image/png": "[encoded data removed]",
      "text/plain": [
       "<matplotlib.figure.Figure at 0x10d4c5d90>"
      ]
     },
     "metadata": {},
     "output_type": "display_data"
    }
   ],
   "source": [
    "#same thing as above but changing amplitude in the modes\n",
    "\n",
    "#fast wave\n",
    "Vx = -kx*k*vf*np.sin(kx*x+kz*z)\n",
    "Vz = -vf*k/kz*(-kz**2+k**2*vs**2)*np.sin(kx*x+kz*z)\n",
    "\n",
    "#slow wave\n",
    "Vx += -10.*kx*k*vs*np.sin(kx*x+kz*z)\n",
    "Vz += -10.*vs*k/kz*(-kz**2+k**2*vf**2)*np.sin(kx*x+kz*z)\n",
    "\n",
    "Vy = np.zeros((n,n,n))\n",
    "\n",
    "kgridG,alfVIso,fastVIso,slowVIso=mode_decomp(Vx,Vy,Vz,beta)\n",
    "\n",
    "print fastVIso/slowVIso\n",
    "print \n",
    "\n",
    "plt.loglog(kgridG,slowVIso,'ro',label='slow')\n",
    "plt.loglog(kgridG,fastVIso,'yo',label='fast')\n",
    "plt.legend()\n",
    "plt.xlabel('k')\n",
    "plt.ylabel('power')\n",
    "plt.title('Slow Fast Slow 10x Amplitude Mode ')\n",
    "plt.savefig('slowfast_10x.pdf')"
   ]
  },
  {
   "cell_type": "code",
   "execution_count": 146,
   "metadata": {
    "collapsed": false
   },
   "outputs": [
    {
     "name": "stdout",
     "output_type": "stream",
     "text": [
      "Keys: [u'Desired_Number_Of_Neighbors', u'Mass_Density_List_Of_Gas_NeighborsVX', u'Mass_Density_List_Of_Gas_NeighborsVY', u'Mass_Density_List_Of_Gas_NeighborsVZ', u'Minimum_Smoothing_Length_Allowed', u'Number_Of_Simulation_Dimensions', u'Periodic_BoxSize', u'Smoothing_Length_List_Of_Gas_NeighborsVX', u'Smoothing_Length_List_Of_Gas_NeighborsVY', u'Smoothing_Length_List_Of_Gas_NeighborsVZ', u'Snapshot_Directory', u'Snapshot_Number', u'Snapshot_Time', u'Total_Number_Of_Dust_Particles', u'Total_Number_Of_Gas_Particles', u'x_grid', u'y_grid', u'z_grid']\n",
      "hello\n"
     ]
    },
    {
     "name": "stderr",
     "output_type": "stream",
     "text": [
      "/anaconda/lib/python2.7/site-packages/ipykernel/__main__.py:46: RuntimeWarning: invalid value encountered in divide\n",
      "/anaconda/lib/python2.7/site-packages/ipykernel/__main__.py:47: RuntimeWarning: invalid value encountered in divide\n",
      "/anaconda/lib/python2.7/site-packages/ipykernel/__main__.py:48: RuntimeWarning: invalid value encountered in divide\n"
     ]
    },
    {
     "name": "stdout",
     "output_type": "stream",
     "text": [
      "hey!\n"
     ]
    },
    {
     "name": "stderr",
     "output_type": "stream",
     "text": [
      "/anaconda/lib/python2.7/site-packages/ipykernel/__main__.py:122: RuntimeWarning: invalid value encountered in divide\n",
      "/anaconda/lib/python2.7/site-packages/ipykernel/__main__.py:123: RuntimeWarning: invalid value encountered in divide\n",
      "/anaconda/lib/python2.7/site-packages/ipykernel/__main__.py:124: RuntimeWarning: invalid value encountered in divide\n",
      "/anaconda/lib/python2.7/site-packages/ipykernel/__main__.py:133: RuntimeWarning: invalid value encountered in divide\n",
      "/anaconda/lib/python2.7/site-packages/ipykernel/__main__.py:134: RuntimeWarning: invalid value encountered in divide\n",
      "/anaconda/lib/python2.7/site-packages/ipykernel/__main__.py:135: RuntimeWarning: invalid value encountered in divide\n"
     ]
    },
    {
     "name": "stdout",
     "output_type": "stream",
     "text": [
      "62\n",
      "62\n",
      "62\n"
     ]
    }
   ],
   "source": [
    "#now run the code on our simulation\n",
    "infi=h5py.File('/Users/darrylseligman/Desktop/Flatiron/Phil/Initial_Magnetic_Simulations/jono_default_params/b0_N64/output_wheeler/dust_ALFVEN_snap_0946.h5','r') # (defined same as above) \n",
    "print(\"Keys: %s\" % infi.keys())\n",
    "#h_g = np.array(infi[\"Smoothing_Length_List_Of_Gas_Neighbors\"]) # this will act like a normal vector: h_g[:] for all elements\n",
    "#h_d=np.array(infi[\"Smoothing_Length_List_Of_Dust_Neighbors\"])\n",
    "#read the list of B and V\n",
    "#B0=np.array(infi[\"Mass_Density_List_Of_Gas_Neighbors_B0\"])\n",
    "#B1=np.array(infi[\"Mass_Density_List_Of_Gas_Neighbors_B1\"])\n",
    "#B2=np.array(infi[\"Mass_Density_List_Of_Gas_Neighbors_B2\"])\n",
    "\n",
    "V0=np.array(infi[\"Mass_Density_List_Of_Gas_NeighborsVX\"])\n",
    "V1=np.array(infi[\"Mass_Density_List_Of_Gas_NeighborsVY\"])\n",
    "V2=np.array(infi[\"Mass_Density_List_Of_Gas_NeighborsVZ\"])\n",
    "xgrid=np.array(infi[\"x_grid\"])\n",
    "#nngb_d_v1=np.array(infi[\"Mass_Density_List_Of_Dust_Neighbors_v1\"])\n",
    "#nngb_g_v1=np.array(infi[\"Mass_Density_List_Of_Gas_Neighbors_v1\"])\n",
    "\n",
    "infi.close() \n",
    "\n",
    "kgridG,alfVIso,fastVIso,slowVIso=mode_decomp(V0,V1,V2,1.)\n"
   ]
  },
  {
   "cell_type": "code",
   "execution_count": 147,
   "metadata": {
    "collapsed": false
   },
   "outputs": [
    {
     "data": {
      "image/png": "[encoded data removed]",
      "text/plain": [
       "<matplotlib.figure.Figure at 0x113393d50>"
      ]
     },
     "metadata": {},
     "output_type": "display_data"
    }
   ],
   "source": [
    "fig, ax1 = plt.subplots()\n",
    "#kvec=(np.arange(len(kgridG))+1)*2.*np.pi\n",
    "#kvec2=np.arange(512+5)#*2.*np.pi\n",
    "#print kvec2\n",
    "\n",
    "ax1.loglog(kgridG,alfVIso,label=r'$Alfv\\'en$',color='orange',alpha=1.)\n",
    "ax1.loglog(kgridG,slowVIso,'r',label=r'$Slow$')\n",
    "ax1.loglog(kgridG,fastVIso,'k',label=r'$Fast$')\n",
    "\n",
    "ax1.set_xlim([8.,550])\n",
    "ax2=ax1.twiny()\n",
    "ax2.loglog(kgridG/(np.pi),np.zeros_like(kgridG))\n",
    "ax2.set_xlim(ax2.get_xlim()[::-1])\n",
    "#ax2.set_xlim(512.,1.)\n",
    "#print ax2.get_xlim()[::-1]\n",
    "ax2.set_xlabel('Number of Zones',fontsize=10)\n",
    "ax1.set_xlabel('k',fontsize=10)\n",
    "ax1.set_ylabel('Power',fontsize=10)\n",
    "#ax1.set_ylim([5.e3,1.e9])\n",
    "ax1.legend(fancybox=True, shadow=True,loc='lower left')\n",
    "plt.savefig('Saturated_64x64x64_decomposition.pdf')\n",
    "#plt.ylabel('Power')"
   ]
  },
  {
   "cell_type": "code",
   "execution_count": 110,
   "metadata": {
    "collapsed": false
   },
   "outputs": [
    {
     "name": "stdout",
     "output_type": "stream",
     "text": [
      "[  7.11184257e+11   5.99244491e+08   5.46132710e+08   3.91861612e+08\n",
      "   3.56217772e+08   3.41776665e+08   3.26603600e+08   3.12552794e+08\n",
      "   2.97269078e+08   2.81946777e+08   2.64599547e+08   2.47132231e+08\n",
      "   2.30446042e+08   2.12613752e+08   1.94887101e+08   1.78555527e+08\n",
      "   1.62270310e+08   1.46571851e+08   1.52335131e+08   1.18016188e+08\n",
      "   1.04947138e+08   9.29245946e+07   8.15561112e+07   7.15746524e+07\n",
      "   6.24247101e+07   5.41156951e+07   4.66548806e+07   4.00328659e+07\n",
      "   3.42826936e+07   2.91881554e+07   2.47371531e+07   2.09565848e+07\n",
      "   1.76719599e+07   1.48230642e+07   1.24580028e+07   1.04156508e+07\n",
      "   9.86848969e+06   8.41806320e+06   6.15446839e+06   5.16908081e+06\n",
      "   4.37862812e+06   3.71094500e+06   3.14826558e+06   2.69867931e+06\n",
      "   2.33162550e+06   2.02743204e+06   1.78462727e+06   1.57606186e+06\n",
      "   1.40985306e+06   1.27527560e+06   1.16694587e+06   1.07696949e+06\n",
      "   1.00026102e+06   9.40087622e+05   8.90736884e+05   8.49928618e+05\n",
      "   8.23049650e+05   7.95633211e+05   7.85660616e+05   7.57162153e+05\n",
      "   7.55916945e+05   7.59005382e+05]\n"
     ]
    }
   ],
   "source": [
    "print fastVIso"
   ]
  },
  {
   "cell_type": "code",
   "execution_count": null,
   "metadata": {
    "collapsed": true
   },
   "outputs": [],
   "source": []
  }
 ],
 "metadata": {
  "kernelspec": {
   "display_name": "Python 2",
   "language": "python",
   "name": "python2"
  },
  "language_info": {
   "codemirror_mode": {
    "name": "ipython",
    "version": 2
   },
   "file_extension": ".py",
   "mimetype": "text/x-python",
   "name": "python",
   "nbconvert_exporter": "python",
   "pygments_lexer": "ipython2",
   "version": "2.7.11"
  }
 },
 "nbformat": 4,
 "nbformat_minor": 0
}
