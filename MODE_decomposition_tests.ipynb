{
 "cells": [
  {
   "cell_type": "code",
   "execution_count": 1,
   "metadata": {
    "collapsed": false
   },
   "outputs": [
    {
     "name": "stderr",
     "output_type": "stream",
     "text": [
      "//anaconda/lib/python2.7/site-packages/matplotlib/font_manager.py:273: UserWarning: Matplotlib is building the font cache using fc-list. This may take a moment.\n",
      "  warnings.warn('Matplotlib is building the font cache using fc-list. This may take a moment.')\n"
     ]
    }
   ],
   "source": [
    "#This Notebook presents a code to do a decompositon onto Alfven Slow and Fast modes\n",
    "#Darryl Seligman version1 9/11/18\n",
    "#Adapted from version of code by Jonathan Squire\n",
    "%matplotlib inline\n",
    "\n",
    "import matplotlib\n",
    "import numpy as np\n",
    "import matplotlib.pyplot as plt\n",
    "from numpy.fft import *\n",
    "def mode_decomp(Vx,Vy,Vz,beta):\n",
    "    n=Vx.shape[0]\n",
    "    \n",
    "    N=[n,n,n]\n",
    "    L=[1.,1.,1.]\n",
    "    if(n%2==0):\n",
    "        b=np.arange(0,N[0]/2)\n",
    "        bb = np.linspace(-N[0]/2.,-1,N[0]/2)\n",
    "    else:\n",
    "        print \"hello\"\n",
    "        b=np.arange(0,N[0]/2)\n",
    "        bb = np.linspace(-N[0]/2.,-1.5,N[0]/2)\n",
    "        bb=np.append(bb,[.5])\n",
    "    print np.concatenate((b,bb))\n",
    "    print np.concatenate((b,bb)).shape\n",
    "    kx=  2*np.pi*1j/L[0]*np.concatenate((b,bb))\n",
    "    ky=  2*np.pi*1j/L[1]*np.concatenate((b,bb))\n",
    "    kz=  2*np.pi*1j/L[2]*np.concatenate((b,bb))\n",
    "    print kx.shape\n",
    "    xg=np.linspace(0.,1.,n)\n",
    "    yg=np.linspace(0.,1.,n)\n",
    "    zg=np.linspace(0.,1.,n)\n",
    "    x,y,az=np.meshgrid(xg,yg,zg,indexing='ij')\n",
    "    KX,KY,KZ= np.meshgrid(kx,ky,kz,indexing='ij')\n",
    "\n",
    "    Kmag = np.sqrt(abs(KX**2+KY**2+KZ**2))\n",
    "    Kperp = np.sqrt(abs(KY**2+KZ**2))\n",
    "    Kmag[0]=1.\n",
    "    khx = KX/Kmag;\n",
    "    khy = KY/Kmag;\n",
    "    khz = KZ/Kmag;\n",
    "    kgrid = np.arange(0,max(ky.imag)+2.*np.pi/L[0],2.*np.pi/L[0])\n",
    "\n",
    "    kgridG = (kgrid[0:kgrid.size-1] +  kgrid[1:kgrid.size])/2;   \n",
    "\n",
    "    fVx = fftn(Vx);\n",
    "    fVy = fftn(Vy); \n",
    "    fVz = fftn(Vz);\n",
    "    \n",
    "    kcbhx = 0;\n",
    "    kcbhy = (khz);\n",
    "    kcbhz =  - (khy);\n",
    "    print fVy.shape\n",
    "    print fVz.shape\n",
    "    print kcbhy.shape\n",
    "    print kcbhz.shape\n",
    "    alfV =  kcbhy*fVy + kcbhz*fVz;\n",
    "\n",
    "    cmpVx = fVx;\n",
    "    cmpVy = fVy + kcbhy*alfV;\n",
    "    cmpVz = fVz + kcbhz*alfV;\n",
    "    \n",
    "    costh = abs(khx);\n",
    "    sinth = np.sqrt(1-costh**2);\n",
    "    thx = -sinth*np.sign(KX);\n",
    "\n",
    "    Kperp[Kperp==0]=1.;\n",
    "    thy = costh*(KY/Kperp);\n",
    "    thz = costh*(KZ/Kperp);\n",
    "    slowV = -thx*fVx - thy*fVy - thz*fVz + costh*sinth/beta*(khx*fVx + khy*fVy + khz*fVz);\n",
    "    fastV = costh*sinth/beta*(thx*fVx + thy*fVy + thz*fVz) + khx*fVx + khy*fVy + khz*fVz;\n",
    "    \n",
    "    alfVIso = spect1D((alfV),Kmag,kgrid)\n",
    "    VIso = spect1D(fVx,Kmag,kgrid) + spect1D(fVy,Kmag,kgrid) + spect1D(fVz,Kmag,kgrid); #% velocity spectrum\n",
    "    SpFIso =spect1D(cmpVx,Kmag,kgrid) + spect1D(cmpVy,Kmag,kgrid) + spect1D(cmpVz,Kmag,kgrid); #% Compressive part (slow+fast) of the velocity\n",
    "    slowVIso = spect1D((slowV),Kmag,kgrid); #% Slow mode part\n",
    "    fastVIso = spect1D((fastV),Kmag,kgrid); #% Fast mode part\n",
    "    return(kgridG,alfVIso,fastVIso,slowVIso)\n",
    "def spect1D(v1,K,kgrid):\n",
    "    # % Function to find the spectrum <v1^2>,\n",
    "    #% K is the kgrid associated with v1\n",
    "    #% kgrid is the grid for spectral shell binning\n",
    "    nk = len(kgrid)-1;\n",
    "    print nk\n",
    "    out1 = np.zeros((nk))\n",
    "    NT2 = K.size**2;\n",
    "    for kk in np.arange(nk):\n",
    "\n",
    "        out1[kk]= np.sum(abs(v1[(K<kgrid[kk+1]) & (K>kgrid[kk])])**2 )/NT2;\n",
    "\n",
    "    return out1   "
   ]
  },
  {
   "cell_type": "code",
   "execution_count": 13,
   "metadata": {
    "collapsed": false
   },
   "outputs": [
    {
     "name": "stdout",
     "output_type": "stream",
     "text": [
      "[  0.   1.   2.   3.   4.   5.   6.   7.   8.   9.  10.  11.  12.  13.  14.\n",
      "  15.  16.  17.  18.  19.  20.  21.  22.  23.  24.  25.  26.  27.  28.  29.\n",
      "  30.  31.  32.  33.  34.  35.  36.  37.  38.  39.  40.  41.  42.  43.  44.\n",
      "  45.  46.  47.  48.  49.  50.  51.  52.  53.  54.  55.  56.  57.  58.  59.\n",
      "  60.  61.  62.  63. -64. -63. -62. -61. -60. -59. -58. -57. -56. -55. -54.\n",
      " -53. -52. -51. -50. -49. -48. -47. -46. -45. -44. -43. -42. -41. -40. -39.\n",
      " -38. -37. -36. -35. -34. -33. -32. -31. -30. -29. -28. -27. -26. -25. -24.\n",
      " -23. -22. -21. -20. -19. -18. -17. -16. -15. -14. -13. -12. -11. -10.  -9.\n",
      "  -8.  -7.  -6.  -5.  -4.  -3.  -2.  -1.]\n",
      "(128,)\n",
      "(128,)\n",
      "(128, 128, 128)\n",
      "(128, 128, 128)\n",
      "(128, 128, 128)\n",
      "(128, 128, 128)\n",
      "63\n",
      "63\n",
      "63\n",
      "63\n",
      "63\n",
      "63\n",
      "63\n",
      "63\n",
      "63\n"
     ]
    },
    {
     "data": {
      "text/plain": [
       "<matplotlib.text.Text at 0x107c26b90>"
      ]
     },
     "execution_count": 13,
     "metadata": {},
     "output_type": "execute_result"
    },
    {
     "data": {
      "image/png": "[encoded data removed]",
      "text/plain": [
       "<matplotlib.figure.Figure at 0x106328310>"
      ]
     },
     "metadata": {},
     "output_type": "display_data"
    }
   ],
   "source": [
    "beta=128;\n",
    "n=128\n",
    "xg=np.linspace(0.,1.,n)\n",
    "yg=np.linspace(0.,1.,n)\n",
    "zg=np.linspace(0.,1.,n)\n",
    "x,y,z=np.meshgrid(xg,yg,zg,indexing='ij')\n",
    "Vx = np.zeros((n,n,n))\n",
    "Vz = np.zeros((n,n,n))+.01*np.random.rand(n,n,n)\n",
    "Vy = 10.1*np.sin(2.*128.*np.pi*z)\n",
    "\n",
    "kgridG,alfVIso,fastVIso,slowVIso=mode_decomp(Vx,Vy,Vz,beta)\n",
    "plt.loglog(kgridG,alfVIso,'bo',label='alfven')\n",
    "plt.loglog(kgridG,slowVIso,'ro',label='slow')\n",
    "plt.loglog(kgridG,fastVIso,'yo',label='fast')\n",
    "plt.legend()\n",
    "plt.xlabel('k')\n",
    "plt.ylabel('power')\n",
    "plt.title('Alfven Test ')"
   ]
  },
  {
   "cell_type": "code",
   "execution_count": null,
   "metadata": {
    "collapsed": true
   },
   "outputs": [],
   "source": []
  }
 ],
 "metadata": {
  "kernelspec": {
   "display_name": "Python 2",
   "language": "python",
   "name": "python2"
  },
  "language_info": {
   "codemirror_mode": {
    "name": "ipython",
    "version": 2
   },
   "file_extension": ".py",
   "mimetype": "text/x-python",
   "name": "python",
   "nbconvert_exporter": "python",
   "pygments_lexer": "ipython2",
   "version": "2.7.11"
  }
 },
 "nbformat": 4,
 "nbformat_minor": 0
}
