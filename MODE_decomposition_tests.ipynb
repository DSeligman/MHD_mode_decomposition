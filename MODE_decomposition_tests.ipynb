{
 "cells": [
  {
   "cell_type": "code",
   "execution_count": 1,
   "metadata": {
    "collapsed": false
   },
   "outputs": [
    {
     "name": "stderr",
     "output_type": "stream",
     "text": [
      "//anaconda/lib/python2.7/site-packages/matplotlib/font_manager.py:273: UserWarning: Matplotlib is building the font cache using fc-list. This may take a moment.\n",
      "  warnings.warn('Matplotlib is building the font cache using fc-list. This may take a moment.')\n",
      "//anaconda/lib/python2.7/site-packages/matplotlib/__init__.py:1350: UserWarning:  This call to matplotlib.use() has no effect\n",
      "because the backend has already been chosen;\n",
      "matplotlib.use() must be called *before* pylab, matplotlib.pyplot,\n",
      "or matplotlib.backends is imported for the first time.\n",
      "\n",
      "  warnings.warn(_use_error_msg)\n"
     ]
    }
   ],
   "source": [
    "#This Notebook presents a code to do a decompositon onto Alfven Slow and Fast modes\n",
    "#Darryl Seligman version3 9/11/18\n",
    "#Adapted from version of code by Jonathan Squire\n",
    "%matplotlib inline\n",
    "\n",
    "import matplotlib\n",
    "import numpy as np\n",
    "import matplotlib.pyplot as plt\n",
    "from numpy.fft import *\n",
    "import sys\n",
    "sys.path.append('/Users/darrylseligman/Desktop/Flatiron/Phil/Initial_Magnetic_Simulations/PFH_python/pfh_python')\n",
    "from get_particle_hsml_ngb import *\n",
    "from grain_density_from_snapshot import *\n",
    "from example_plotting_routine import *\n",
    "def mode_decomp(Vx,Vy,Vz,beta):\n",
    "    #Form grid of K\n",
    "    n=Vx.shape[0]\n",
    "    \n",
    "    N=[n,n,n]\n",
    "    L=[1.,1.,1.]\n",
    "    if(n%2==0):\n",
    "        b=np.arange(0,N[0]/2)\n",
    "        bb = np.linspace(-N[0]/2.,-1,N[0]/2)\n",
    "    else:\n",
    "        print \"hello\"\n",
    "        b=np.arange(0,N[0]/2)\n",
    "        bb = np.linspace(-N[0]/2.,-1.5,N[0]/2)\n",
    "        bb=np.append(bb,[.5])\n",
    "    #Form k-space vectors for each dimension [0 1 2 3 ... N/2-1 -N/2 -N/2+1 ... -2 -1]*2*pi/L\n",
    "    \n",
    "    kx=  2*np.pi*1j/L[0]*np.concatenate((b,bb))\n",
    "    ky=  2*np.pi*1j/L[1]*np.concatenate((b,bb))\n",
    "    kz=  2*np.pi*1j/L[2]*np.concatenate((b,bb))\n",
    "   \n",
    "    #print kx.shape\n",
    "    #xg=np.linspace(0.,1.,n)\n",
    "    #yg=np.linspace(0.,1.,n)\n",
    "    #zg=np.linspace(0.,1.,n)\n",
    "    #x,y,az=np.meshgrid(xg,yg,zg,indexing='ij')\n",
    "    #3D arrays of k-space grid\n",
    "    KX,KY,KZ= np.meshgrid(kx,ky,kz)#,indexing='ij')\n",
    "    #grid of |K|, kperp (B0 is in x direction) and k_hat\n",
    "    Kmag = np.sqrt(abs(KX**2+KY**2+KZ**2))\n",
    "    Kperp = np.sqrt(abs(KY**2+KX**2))\n",
    "    #Kmag[0]=1.\n",
    "    khx = KX/Kmag;\n",
    "    khy = KY/Kmag;\n",
    "    khz = KZ/Kmag;\n",
    "    #k-Grid for binning the spectra\n",
    "    kgrid = np.arange(0,max(ky.imag)+2.*np.pi/L[0],2.*np.pi/L[0])\n",
    "\n",
    "    kgridG = (kgrid[0:kgrid.size-1] +  kgrid[1:kgrid.size])/2;   \n",
    "    #Get B and V, take fourier transforms  \n",
    "    fVx = fftn(Vx);\n",
    "    fVy = fftn(Vy); \n",
    "    fVz = fftn(Vz);\n",
    "    # % Alfvenic part -- part of B and u in k*b_hat direction                                                                                                                                                                      \n",
    "    #% b_hat is x direction \n",
    "    kcbhz = 0;\n",
    "    kcbhy = (khx);\n",
    "    kcbhx =  - (khy);\n",
    "    #Alfvenic part of V, (k*bh).V \n",
    "    alfV =  kcbhy*fVy + kcbhx*fVx;\n",
    "    \n",
    "    #% Now decompose compressive part into fast and slow                                                                                                                                                                          \n",
    "    #% I think this is right, but never actually used this seriously  \n",
    "    \n",
    "    costh = abs(khz);\n",
    "    sinth = np.sqrt(1.-costh**2);\n",
    "    Kperp[Kperp==0]=1.;\n",
    "    #for strong beta regime A33 - A34\n",
    "    if(beta>1.e2):\n",
    "        thx = -sinth*np.sign(KX);\n",
    "        #thx = sinth*khx;\n",
    "        Kperp[Kperp==0]=1.;\n",
    "        thy = costh*(KY/Kperp);\n",
    "        thz = costh*(KZ/Kperp);\n",
    "        #% Slow wave part  \n",
    "        slowV = -thx*fVx - thy*fVy - thz*fVz + costh*sinth/beta*(khx*fVx + khy*fVy + khz*fVz);\n",
    "        #% Fast wave part  \n",
    "        fastV = costh*sinth/beta*(thx*fVx + thy*fVy + thz*fVz) + khx*fVx + khy*fVy + khz*fVz;\n",
    "    #General beta case A29 - A30\n",
    "    else:\n",
    "        \n",
    "        alpha = beta/2.\n",
    "        \n",
    "        D = np.array(((1.+alpha)**2-4.*alpha*costh*costh),dtype=complex)\n",
    "        #print D\n",
    "        #print KY/Kperp\n",
    "        slowV = (-1.+alpha-np.sqrt(D))*(khz*fVz)+(1.+alpha-np.sqrt(D))*((KY/Kperp)*fVy + (KX/Kperp)*fVx)\n",
    "        fastV= (-1.+alpha+np.sqrt(D))*(khz*fVz)+(1.+alpha+np.sqrt(D))*((KY/Kperp)*fVy + (KX/Kperp)*fVx)\n",
    "        #slowV = (-1.+alpha-np.sqrt(D))*(khz*fVz)+(1.+alpha-np.sqrt(D))*(khy*fVy + khx*fVx)\n",
    "        #fastV= (-1.+alpha+np.sqrt(D))*(khz*fVz)+(1.+alpha+np.sqrt(D))*(khy*fVy + khx*fVx)\n",
    "        #slowV = (-1.+alpha-np.sqrt(D))*(KX*fVx)+(1.+alpha-np.sqrt(D))*(KY*fVy + KZ*fVz)\n",
    "        #fastV= (-1.+alpha+np.sqrt(D))*(KX*fVx)+(1.+alpha+np.sqrt(D))*(KY*fVy + KZ*fVz)\n",
    "        #print (-1.+alpha+np.sqrt(D))\n",
    "        #print fastV\n",
    "        #-thx*fVx - thy*fVy - thz*fVz + costh*sinth/beta*(khx*fVx + khy*fVy + khz*fVz);\n",
    "    alfVIso = spect1D((alfV),Kmag,kgrid)\n",
    "    #VIso = spect1D(fVx,Kmag,kgrid) + spect1D(fVy,Kmag,kgrid) + spect1D(fVz,Kmag,kgrid); #% velocity spectrum\n",
    "    #SpFIso =spect1D(cmpVx,Kmag,kgrid) + spect1D(cmpVy,Kmag,kgrid) + spect1D(cmpVz,Kmag,kgrid); #% Compressive part (slow+fast) of the velocity\n",
    "    slowVIso = spect1D((slowV),Kmag,kgrid); #% Slow mode part\n",
    "    fastVIso = spect1D((fastV),Kmag,kgrid); #% Fast mode part\n",
    "    #VIso1 = spect1D((thetapart),Kmag,kgrid)\n",
    "    #VIso2 = spect1D((khatpart),Kmag,kgrid)\n",
    "    return(kgridG,alfVIso,fastVIso,slowVIso)\n",
    "def spect1D(v1,K,kgrid):\n",
    "    # % Function to find the spectrum <v1^2>,\n",
    "    #% K is the kgrid associated with v1\n",
    "    #% kgrid is the grid for spectral shell binning\n",
    "    nk = len(kgrid)-1;\n",
    "    print nk\n",
    "    out1 = np.zeros((nk))\n",
    "    NT2 = K.size**2;\n",
    "    for kk in np.arange(nk):\n",
    "\n",
    "        out1[kk]= np.sum(abs(v1[(K<=kgrid[kk+1]) & (K>=kgrid[kk])])**2 )/NT2;\n",
    "\n",
    "    return out1    "
   ]
  },
  {
   "cell_type": "code",
   "execution_count": 11,
   "metadata": {
    "collapsed": false
   },
   "outputs": [
    {
     "name": "stderr",
     "output_type": "stream",
     "text": [
      "/anaconda/lib/python2.7/site-packages/ipykernel/__main__.py:46: RuntimeWarning: invalid value encountered in divide\n",
      "/anaconda/lib/python2.7/site-packages/ipykernel/__main__.py:47: RuntimeWarning: invalid value encountered in divide\n",
      "/anaconda/lib/python2.7/site-packages/ipykernel/__main__.py:48: RuntimeWarning: invalid value encountered in divide\n"
     ]
    },
    {
     "name": "stdout",
     "output_type": "stream",
     "text": [
      "63\n",
      "63\n",
      "63\n"
     ]
    },
    {
     "data": {
      "text/plain": [
       "<matplotlib.text.Text at 0x1162db150>"
      ]
     },
     "execution_count": 11,
     "metadata": {},
     "output_type": "execute_result"
    },
    {
     "data": {
      "image/png": "[encoded data removed]",
      "text/plain": [
       "<matplotlib.figure.Figure at 0x10fa2cc50>"
      ]
     },
     "metadata": {},
     "output_type": "display_data"
    }
   ],
   "source": [
    "#Test for a linear purely Alfvenic Mode\n",
    "#can experimenet with changing beta\n",
    "beta=1.;\n",
    "#experiment with changing NN - changes peak of power\n",
    "NN=5.\n",
    "n=128\n",
    "xg=np.linspace(0.,1.,n)\n",
    "yg=np.linspace(0.,1.,n)\n",
    "zg=np.linspace(0.,1.,n)\n",
    "x,y,z=np.meshgrid(xg,yg,zg)#,indexing='ij')\n",
    "Vx = np.zeros((n,n,n))\n",
    "Vz = np.zeros((n,n,n))#+.01*np.random.rand(n,n,n)\n",
    "\n",
    "Vy = 10.1*np.sin(2.*NN*np.pi*x)\n",
    "\n",
    "kgridG,alfVIso,fastVIso,slowVIso=mode_decomp(Vx,Vy,Vz,beta)\n",
    "#plt.loglog(kgridG,viso,'ko',label='viso')\n",
    "plt.loglog(kgridG,alfVIso,'bo',label='alfven')\n",
    "plt.loglog(kgridG,slowVIso,'ro',label='slow')\n",
    "plt.loglog(kgridG,fastVIso,'yo',label='fast')\n",
    "plt.legend()\n",
    "plt.xlabel('k')\n",
    "plt.ylabel('power')\n",
    "plt.title('Alfven Test ')"
   ]
  },
  {
   "cell_type": "code",
   "execution_count": 19,
   "metadata": {
    "collapsed": false
   },
   "outputs": [
    {
     "name": "stderr",
     "output_type": "stream",
     "text": [
      "/anaconda/lib/python2.7/site-packages/ipykernel/__main__.py:46: RuntimeWarning: invalid value encountered in divide\n",
      "/anaconda/lib/python2.7/site-packages/ipykernel/__main__.py:47: RuntimeWarning: invalid value encountered in divide\n",
      "/anaconda/lib/python2.7/site-packages/ipykernel/__main__.py:48: RuntimeWarning: invalid value encountered in divide\n"
     ]
    },
    {
     "name": "stdout",
     "output_type": "stream",
     "text": [
      "63\n",
      "63\n",
      "63\n"
     ]
    },
    {
     "data": {
      "text/plain": [
       "<matplotlib.text.Text at 0x11392aa50>"
      ]
     },
     "execution_count": 19,
     "metadata": {},
     "output_type": "execute_result"
    },
    {
     "data": {
      "image/png": "[encoded data removed]",
      "text/plain": [
       "<matplotlib.figure.Figure at 0x1139d6650>"
      ]
     },
     "metadata": {},
     "output_type": "display_data"
    }
   ],
   "source": [
    "#now test a slow mode and fast mode\n",
    "beta=1.;\n",
    "#units alfven speed = 1\n",
    "NN = 35.\n",
    "\n",
    "xg=np.linspace(0.,1.,n)\n",
    "yg=np.linspace(0.,1.,n)\n",
    "zg=np.linspace(0.,1.,n)\n",
    "x,y,z=np.meshgrid(xg,yg,zg)#,indexing='ij')\n",
    "\n",
    "xpart=0.#.01\n",
    "zpart=np.sqrt(1.-xpart**2)\n",
    "Vy = np.zeros((n,n,n))\n",
    "#Vy = 10.1*np.sin(10.*NN*np.pi*z)\n",
    "\n",
    "#Vx = np.sqrt(2.)/(2.*np.pi)/B0*omega*A*np.cos(2.*NN*np.pi/np.sqrt(2.)*(xpart*x+zpart*z))/NN\n",
    "#Vz = A*np.cos(2.*NN*np.pi/np.sqrt(2.)*(xpart*x+zpart*z))\n",
    "Vz =np.zeros((n,n,n))\n",
    "\n",
    "#Vy = A*np.sin(2.*NN*np.pi*x)\n",
    "Vz = 10.1*np.sin(2.*NN*np.pi*(xpart*x+zpart*z))\n",
    "#Vz = 8.1*np.sin(2.*NN*np.pi*(xpart*x+zpart*z))\n",
    "\n",
    "\n",
    "kgridG,alfVIso,fastVIso,slowVIso=mode_decomp(Vx,Vy,Vz,beta)\n",
    "plt.loglog(kgridG,fastVIso,'yo',label='fast')\n",
    "plt.loglog(kgridG,alfVIso,'bo',label='alfven')\n",
    "plt.loglog(kgridG,slowVIso,'ro',label='slow')\n",
    "\n",
    "#plt.yscale('log')\n",
    "\n",
    "plt.legend(loc='upper left')\n",
    "plt.xlabel('k')\n",
    "plt.ylabel('power')\n",
    "plt.title('Slow Fast Compressible Mode Test ')"
   ]
  },
  {
   "cell_type": "code",
   "execution_count": 17,
   "metadata": {
    "collapsed": false
   },
   "outputs": [
    {
     "name": "stdout",
     "output_type": "stream",
     "text": [
      "Keys: [u'Desired_Number_Of_Neighbors', u'Mass_Density_List_Of_Gas_NeighborsVX', u'Mass_Density_List_Of_Gas_NeighborsVY', u'Mass_Density_List_Of_Gas_NeighborsVZ', u'Minimum_Smoothing_Length_Allowed', u'Number_Of_Simulation_Dimensions', u'Periodic_BoxSize', u'Smoothing_Length_List_Of_Gas_NeighborsVX', u'Smoothing_Length_List_Of_Gas_NeighborsVY', u'Smoothing_Length_List_Of_Gas_NeighborsVZ', u'Snapshot_Directory', u'Snapshot_Number', u'Snapshot_Time', u'Total_Number_Of_Dust_Particles', u'Total_Number_Of_Gas_Particles', u'x_grid', u'y_grid', u'z_grid']\n",
      "hello\n"
     ]
    },
    {
     "name": "stderr",
     "output_type": "stream",
     "text": [
      "/anaconda/lib/python2.7/site-packages/ipykernel/__main__.py:46: RuntimeWarning: invalid value encountered in divide\n",
      "/anaconda/lib/python2.7/site-packages/ipykernel/__main__.py:47: RuntimeWarning: invalid value encountered in divide\n",
      "/anaconda/lib/python2.7/site-packages/ipykernel/__main__.py:48: RuntimeWarning: invalid value encountered in divide\n"
     ]
    },
    {
     "name": "stdout",
     "output_type": "stream",
     "text": [
      "62\n",
      "62\n",
      "62\n"
     ]
    },
    {
     "data": {
      "text/plain": [
       "<matplotlib.text.Text at 0x11349d510>"
      ]
     },
     "execution_count": 17,
     "metadata": {},
     "output_type": "execute_result"
    },
    {
     "data": {
      "image/png": "[encoded data removed]",
      "text/plain": [
       "<matplotlib.figure.Figure at 0x10633cbd0>"
      ]
     },
     "metadata": {},
     "output_type": "display_data"
    }
   ],
   "source": [
    "#\n",
    "infi=h5py.File('/Users/darrylseligman/Desktop/Flatiron/Phil/Initial_Magnetic_Simulations/jono_default_params/b0_N64/output_wheeler/dust_ALFVEN_snap_0946.h5','r') # (defined same as above) \n",
    "print(\"Keys: %s\" % infi.keys())\n",
    "#h_g = np.array(infi[\"Smoothing_Length_List_Of_Gas_Neighbors\"]) # this will act like a normal vector: h_g[:] for all elements\n",
    "#h_d=np.array(infi[\"Smoothing_Length_List_Of_Dust_Neighbors\"])\n",
    "#read the list of B and V\n",
    "#B0=np.array(infi[\"Mass_Density_List_Of_Gas_Neighbors_B0\"])\n",
    "#B1=np.array(infi[\"Mass_Density_List_Of_Gas_Neighbors_B1\"])\n",
    "#B2=np.array(infi[\"Mass_Density_List_Of_Gas_Neighbors_B2\"])\n",
    "\n",
    "V0=np.array(infi[\"Mass_Density_List_Of_Gas_NeighborsVX\"])\n",
    "V1=np.array(infi[\"Mass_Density_List_Of_Gas_NeighborsVY\"])\n",
    "V2=np.array(infi[\"Mass_Density_List_Of_Gas_NeighborsVZ\"])\n",
    "xgrid=np.array(infi[\"x_grid\"])\n",
    "#nngb_d_v1=np.array(infi[\"Mass_Density_List_Of_Dust_Neighbors_v1\"])\n",
    "#nngb_g_v1=np.array(infi[\"Mass_Density_List_Of_Gas_Neighbors_v1\"])\n",
    "\n",
    "infi.close() \n",
    "\n",
    "kgridG,alfVIso,fastVIso,slowVIso=mode_decomp(V0,V1,V2,1.)\n",
    "\n",
    "plt.loglog(kgridG,alfVIso,'b',label='alfven')\n",
    "plt.loglog(kgridG,slowVIso,'r',label='slow')\n",
    "plt.loglog(kgridG,fastVIso,'y',label='fast')\n",
    "plt.legend()\n",
    "plt.xlabel('k')\n",
    "plt.ylabel('power')\n",
    "plt.title('Saturated Simulation Decomposition ')"
   ]
  },
  {
   "cell_type": "code",
   "execution_count": null,
   "metadata": {
    "collapsed": true
   },
   "outputs": [],
   "source": []
  }
 ],
 "metadata": {
  "kernelspec": {
   "display_name": "Python 2",
   "language": "python",
   "name": "python2"
  },
  "language_info": {
   "codemirror_mode": {
    "name": "ipython",
    "version": 2
   },
   "file_extension": ".py",
   "mimetype": "text/x-python",
   "name": "python",
   "nbconvert_exporter": "python",
   "pygments_lexer": "ipython2",
   "version": "2.7.11"
  }
 },
 "nbformat": 4,
 "nbformat_minor": 0
}
