{
 "cells": [
  {
   "cell_type": "code",
   "execution_count": 2,
   "metadata": {
    "collapsed": false
   },
   "outputs": [],
   "source": [
    "#This Notebook presents a code to do a decompositon onto Alfven Slow and Fast modes\n",
    "#Darryl Seligman version4 9/17/18\n",
    "#Adapted from version of code by Jonathan Squire\n",
    "%matplotlib inline\n",
    "\n",
    "import matplotlib\n",
    "import numpy as np\n",
    "import matplotlib.pyplot as plt\n",
    "from numpy.fft import *\n",
    "import sys\n",
    "sys.path.append('/Users/darrylseligman/Desktop/Flatiron/Phil/Initial_Magnetic_Simulations/PFH_python/pfh_python')\n",
    "from get_particle_hsml_ngb import *\n",
    "from grain_density_from_snapshot import *\n",
    "from example_plotting_routine import *\n",
    "def mode_decomp(Vx,Vy,Vz,beta):\n",
    "    #Form grid of K\n",
    "    n=Vx.shape[0]\n",
    "    \n",
    "    N=[n,n,n]\n",
    "    L=[1.,1.,1.]\n",
    "    if(n%2==0):\n",
    "        b=np.arange(0,N[0]/2)\n",
    "        bb = np.linspace(-N[0]/2.,-1,N[0]/2)\n",
    "    else:\n",
    "        print \"hello\"\n",
    "        b=np.arange(0,N[0]/2)\n",
    "        bb = np.linspace(-N[0]/2.,-1.5,N[0]/2)\n",
    "        bb=np.append(bb,[.5])\n",
    "    #Form k-space vectors for each dimension [0 1 2 3 ... N/2-1 -N/2 -N/2+1 ... -2 -1]*2*pi/L\n",
    "    \n",
    "    kx=  2*np.pi*1j/L[0]*np.concatenate((b,bb))\n",
    "    ky=  2*np.pi*1j/L[1]*np.concatenate((b,bb))\n",
    "    kz=  2*np.pi*1j/L[2]*np.concatenate((b,bb))\n",
    "   \n",
    "    #3D arrays of k-space grid\n",
    "    KX,KY,KZ= np.meshgrid(kx,ky,kz)#,indexing='ij')\n",
    "    #grid of |K|, kperp (B0 is in x direction) and k_hat\n",
    "    Kmag = np.sqrt(abs(KX**2+KY**2+KZ**2))\n",
    "    Kperp = np.sqrt(abs(KY**2+KX**2))\n",
    "    #Kmag[0]=1.\n",
    "    khx = KX/Kmag;\n",
    "    khy = KY/Kmag;\n",
    "    khz = KZ/Kmag;\n",
    "    khx[np.isnan(khx)]=0.\n",
    "    khy[np.isnan(khy)]=0.\n",
    "    khz[np.isnan(khz)]=0.\n",
    "    #k-Grid for binning the spectra\n",
    "    kgrid = np.arange(0,max(ky.imag)+2.*np.pi/L[0],2.*np.pi/L[0])\n",
    "\n",
    "    kgridG = (kgrid[0:kgrid.size-1] +  kgrid[1:kgrid.size])/2;   \n",
    "    #Get B and V, take fourier transforms  \n",
    "    fVx = fftn(Vx);\n",
    "    fVy = fftn(Vy); \n",
    "    fVz = fftn(Vz);\n",
    "    # % Alfvenic part -- part of B and u in k*b_hat direction                                                                                                                                                                      \n",
    "    #% b_hat is x direction \n",
    "    kcbhz = 0;\n",
    "    kcbhy = (khx);\n",
    "    kcbhx =  - (khy);\n",
    "    #Alfvenic part of V, (k*bh).V \n",
    "    alfV =  kcbhy*fVy + kcbhx*fVx;\n",
    "    \n",
    "    #% Now decompose compressive part into fast and slow                                                                                                                                                                          \n",
    "    #% I think this is right, but never actually used this seriously  \n",
    "    \n",
    "    costh = abs(khz);\n",
    "    sinth = np.sqrt(1.-costh**2);\n",
    "    #costh[costh==0]=1.\n",
    "    #sinth[sinth==0]=1.\n",
    "    Kperp[Kperp==0]=1.;\n",
    "    #for strong beta regime A33 - A34\n",
    "    if(beta>1.e2):\n",
    "        thx = -sinth*np.sign(KX);\n",
    "        #thx = sinth*khx;\n",
    "        Kperp[Kperp==0]=1.;\n",
    "        thy = costh*(KY/Kperp);\n",
    "        thz = costh*(KZ/Kperp);\n",
    "        #% Slow wave part  \n",
    "        slowV = -thx*fVx - thy*fVy - thz*fVz + costh*sinth/beta*(khx*fVx + khy*fVy + khz*fVz);\n",
    "        #% Fast wave part  \n",
    "        fastV = costh*sinth/beta*(thx*fVx + thy*fVy + thz*fVz) + khx*fVx + khy*fVy + khz*fVz;\n",
    "    #General beta case A29 - A30\n",
    "    elif(beta<1.e-2):\n",
    "        alpha = beta/2.\n",
    "        fz = np.sum(abs(khz*fVz))\n",
    "        fxy = np.sum(abs((khy)*fVy + (khx)*fVx))\n",
    "        fracz = fz/(fz+fxy)\n",
    "        fracxy=fxy/(fz+fxy)\n",
    "        #case of sin theta or cos theta =0\n",
    "        if((fz==0.) or (fxy==0.)):\n",
    "            slowV = ((khz*fVz)-costh*sinth*alpha*((khy)*fVy + (khx)*fVx))\n",
    "            fastV = (costh*sinth*alpha*(khz*fVz)-((khy)*fVy + (khx)*fVx))\n",
    "        else:   \n",
    "            slowV = ((khz*fVz)-costh*sinth*alpha*((khy)*fVy + (khx)*fVx))/(fracz-costh*sinth*alpha*fracxy)\n",
    "            fastV = (costh*sinth*alpha*(khz*fVz)-((khy)*fVy + (khx)*fVx))/(fracz*costh*sinth*alpha-fracz)\n",
    "    else:\n",
    "        print \"hey!\"\n",
    "        alpha = beta/2.\n",
    "        D = np.array(((1.+alpha)**2-4.*alpha*costh*costh),dtype=complex)\n",
    "        SLOWVx = khx*(1.+alpha-np.sqrt(D))\n",
    "        SLOWVy = khy*(1.+alpha-np.sqrt(D))\n",
    "        SLOWVz = khz*(-1.+alpha-np.sqrt(D))\n",
    "        \n",
    "        slowVmag = np.sqrt(abs(SLOWVx**2+SLOWVy**2+SLOWVz**2))\n",
    "        slowVx = SLOWVx/slowVmag\n",
    "        slowVy = SLOWVy/slowVmag\n",
    "        slowVz = SLOWVz/slowVmag\n",
    "        slowV = (slowVx*fVx + slowVy*fVy + slowVz*fVz)\n",
    "        \n",
    "        slowV[np.isnan(slowV)]=0.\n",
    "        #now for the fast\n",
    "        FASTVx = khx*(1.+alpha+np.sqrt(D))\n",
    "        FASTVy = khy*(1.+alpha+np.sqrt(D))\n",
    "        FASTVz = khz*(-1.+alpha+np.sqrt(D))\n",
    "        fastVmag = np.sqrt(abs(FASTVx**2+FASTVy**2+FASTVz**2))\n",
    "        fastVx = FASTVx/fastVmag\n",
    "        fastVy = FASTVy/fastVmag\n",
    "        fastVz = FASTVz/fastVmag\n",
    "        \n",
    "        fastV = (fastVx*fVx + fastVy*fVy + fastVz*fVz)\n",
    "        fastV[np.isnan(fastV)]=0.\n",
    "        \n",
    "        \n",
    "        \n",
    "        \n",
    "        \n",
    "    alfVIso = spect1D((alfV),Kmag,kgrid)\n",
    "    #VIso = spect1D(fVx,Kmag,kgrid) + spect1D(fVy,Kmag,kgrid) + spect1D(fVz,Kmag,kgrid); #% velocity spectrum\n",
    "    #SpFIso =spect1D(cmpVx,Kmag,kgrid) + spect1D(cmpVy,Kmag,kgrid) + spect1D(cmpVz,Kmag,kgrid); #% Compressive part (slow+fast) of the velocity\n",
    "    slowVIso = spect1D((slowV),Kmag,kgrid); #% Slow mode part\n",
    "    fastVIso = spect1D((fastV),Kmag,kgrid); #% Fast mode part\n",
    "    #VIso1 = spect1D((thetapart),Kmag,kgrid)\n",
    "    #VIso2 = spect1D((khatpart),Kmag,kgrid)\n",
    "    return(kgridG,alfVIso,fastVIso,slowVIso)\n",
    "def spect1D(v1,K,kgrid):\n",
    "    # % Function to find the spectrum <v1^2>,\n",
    "    #% K is the kgrid associated with v1\n",
    "    #% kgrid is the grid for spectral shell binning\n",
    "    nk = len(kgrid)-1;\n",
    "    print nk\n",
    "    out1 = np.zeros((nk))\n",
    "    NT2 = K.size**2;\n",
    "    for kk in np.arange(nk):\n",
    "\n",
    "        out1[kk]= np.sum(abs(v1[(K<=kgrid[kk+1]) & (K>=kgrid[kk])])**2 )/NT2;\n",
    "\n",
    "    return out1    "
   ]
  },
  {
   "cell_type": "code",
   "execution_count": 3,
   "metadata": {
    "collapsed": false
   },
   "outputs": [
    {
     "name": "stdout",
     "output_type": "stream",
     "text": [
      "hello\n"
     ]
    },
    {
     "name": "stderr",
     "output_type": "stream",
     "text": [
      "/anaconda/lib/python2.7/site-packages/ipykernel/__main__.py:41: RuntimeWarning: invalid value encountered in divide\n",
      "/anaconda/lib/python2.7/site-packages/ipykernel/__main__.py:42: RuntimeWarning: invalid value encountered in divide\n",
      "/anaconda/lib/python2.7/site-packages/ipykernel/__main__.py:43: RuntimeWarning: invalid value encountered in divide\n"
     ]
    },
    {
     "name": "stdout",
     "output_type": "stream",
     "text": [
      "hey!\n"
     ]
    },
    {
     "name": "stderr",
     "output_type": "stream",
     "text": [
      "/anaconda/lib/python2.7/site-packages/ipykernel/__main__.py:105: RuntimeWarning: invalid value encountered in divide\n",
      "/anaconda/lib/python2.7/site-packages/ipykernel/__main__.py:106: RuntimeWarning: invalid value encountered in divide\n",
      "/anaconda/lib/python2.7/site-packages/ipykernel/__main__.py:107: RuntimeWarning: invalid value encountered in divide\n",
      "/anaconda/lib/python2.7/site-packages/ipykernel/__main__.py:116: RuntimeWarning: invalid value encountered in divide\n",
      "/anaconda/lib/python2.7/site-packages/ipykernel/__main__.py:117: RuntimeWarning: invalid value encountered in divide\n",
      "/anaconda/lib/python2.7/site-packages/ipykernel/__main__.py:118: RuntimeWarning: invalid value encountered in divide\n"
     ]
    },
    {
     "name": "stdout",
     "output_type": "stream",
     "text": [
      "63\n",
      "63\n",
      "63\n"
     ]
    },
    {
     "data": {
      "text/plain": [
       "<matplotlib.text.Text at 0x109732350>"
      ]
     },
     "execution_count": 3,
     "metadata": {},
     "output_type": "execute_result"
    },
    {
     "data": {
      "image/png": "[encoded data removed]",
      "text/plain": [
       "<matplotlib.figure.Figure at 0x1061df650>"
      ]
     },
     "metadata": {},
     "output_type": "display_data"
    }
   ],
   "source": [
    "#Test for a linear purely Alfvenic Mode\n",
    "#can experimenet with changing beta\n",
    "beta=1.;\n",
    "#experiment with changing NN - changes peak of power\n",
    "NN=6.\n",
    "n=128\n",
    "xg=np.linspace(0.,1.,n+1,endpoint=False)\n",
    "yg=np.linspace(0.,1.,n+1,endpoint=False)\n",
    "zg=np.linspace(0.,1.,n+1,endpoint=False)\n",
    "x,y,z=np.meshgrid(xg,yg,zg)#,indexing='ij')\n",
    "Vx = np.zeros((n+1,n+1,n+1))\n",
    "Vz = np.zeros((n+1,n+1,n+1))#+.01*np.random.rand(n,n,n)\n",
    "\n",
    "Vy = 10.1*np.sin(2.*NN*np.pi*x)\n",
    "\n",
    "kgridG,alfVIso,fastVIso,slowVIso=mode_decomp(Vx,Vy,Vz,beta)\n",
    "#plt.loglog(kgridG,viso,'ko',label='viso')\n",
    "plt.loglog(kgridG,alfVIso,'bo',label='alfven')\n",
    "plt.loglog(kgridG,slowVIso,'ro',label='slow')\n",
    "plt.loglog(kgridG,fastVIso,'yo',label='fast')\n",
    "plt.legend()\n",
    "plt.xlabel('k')\n",
    "plt.ylabel('power')\n",
    "plt.title('Purely Alfvenic Mode ')"
   ]
  },
  {
   "cell_type": "code",
   "execution_count": 4,
   "metadata": {
    "collapsed": false
   },
   "outputs": [
    {
     "name": "stdout",
     "output_type": "stream",
     "text": [
      "hello\n"
     ]
    },
    {
     "name": "stderr",
     "output_type": "stream",
     "text": [
      "/anaconda/lib/python2.7/site-packages/ipykernel/__main__.py:41: RuntimeWarning: invalid value encountered in divide\n",
      "/anaconda/lib/python2.7/site-packages/ipykernel/__main__.py:42: RuntimeWarning: invalid value encountered in divide\n",
      "/anaconda/lib/python2.7/site-packages/ipykernel/__main__.py:43: RuntimeWarning: invalid value encountered in divide\n"
     ]
    },
    {
     "name": "stdout",
     "output_type": "stream",
     "text": [
      "hey!\n"
     ]
    },
    {
     "name": "stderr",
     "output_type": "stream",
     "text": [
      "/anaconda/lib/python2.7/site-packages/ipykernel/__main__.py:105: RuntimeWarning: invalid value encountered in divide\n",
      "/anaconda/lib/python2.7/site-packages/ipykernel/__main__.py:106: RuntimeWarning: invalid value encountered in divide\n",
      "/anaconda/lib/python2.7/site-packages/ipykernel/__main__.py:107: RuntimeWarning: invalid value encountered in divide\n",
      "/anaconda/lib/python2.7/site-packages/ipykernel/__main__.py:116: RuntimeWarning: invalid value encountered in divide\n",
      "/anaconda/lib/python2.7/site-packages/ipykernel/__main__.py:117: RuntimeWarning: invalid value encountered in divide\n",
      "/anaconda/lib/python2.7/site-packages/ipykernel/__main__.py:118: RuntimeWarning: invalid value encountered in divide\n"
     ]
    },
    {
     "name": "stdout",
     "output_type": "stream",
     "text": [
      "63\n",
      "63\n",
      "63\n",
      "[  1.02552426e-32   5.19395780e-31   5.10050000e+01   2.55025000e+01\n",
      "   1.45988992e-29   2.14964706e-29   3.85759427e-29   5.35314916e-31\n",
      "   1.62409579e-30   3.97249127e-30   1.03240485e-30   1.58056417e-29\n",
      "   1.86410078e-29   3.53795265e-30   6.06282735e-30   5.01823539e-30\n",
      "   3.01085103e-31   1.27331777e-29   1.37280594e-29   3.19612776e-30\n",
      "   7.16831852e-30   5.91369753e-30   2.44522146e-31   1.44521496e-29\n",
      "   1.43099724e-29   3.66367267e-31   8.36481300e-30   8.29188030e-30\n",
      "   1.32005077e-31   1.11200499e-29   1.12853618e-29   5.08539278e-31\n",
      "   1.14901418e-29   9.91014162e-30   1.91304681e-31   1.62112021e-29\n",
      "   1.68740761e-29   1.46820065e-30   1.30602425e-29   1.13713075e-29\n",
      "   1.25354248e-31   2.32005615e-29   1.86376670e-29   2.85244187e-31\n",
      "   1.11065223e-29   1.12432891e-29   2.60109241e-31   1.34111994e-29\n",
      "   1.33217619e-29   1.45484053e-31   1.23623835e-29   1.26510102e-29\n",
      "   9.56002906e-31   1.50909795e-29   1.52457263e-29   3.10264168e-31\n",
      "   1.09296303e-29   1.11276526e-29   9.78731321e-31   1.45232137e-29\n",
      "   1.45125577e-29   4.26472048e-31   2.89964839e-29]\n"
     ]
    },
    {
     "data": {
      "image/png": "[encoded data removed]",
      "text/plain": [
       "<matplotlib.figure.Figure at 0x10fb3e150>"
      ]
     },
     "metadata": {},
     "output_type": "display_data"
    }
   ],
   "source": [
    "#test just a fast wave \n",
    "# Frank Shu Gas Dynamics page 307 example b - k perp to B_0 - then the slow velocity is zero\n",
    "beta=1.;\n",
    "#units alfven speed = 1\n",
    "NN = 3.\n",
    "\n",
    "xg=np.linspace(0.,1.,n+1,endpoint=False)\n",
    "yg=np.linspace(0.,1.,n+1,endpoint=False)\n",
    "zg=np.linspace(0.,1.,n+1,endpoint=False)\n",
    "x,y,z=np.meshgrid(xg,yg,zg)#,indexing='ij')\n",
    "\n",
    "xpart=1.#.01\n",
    "zpart=np.sqrt(1.-xpart**2)\n",
    "Vy = np.zeros((n+1,n+1,n+1))\n",
    "Vz =np.zeros((n+1,n+1,n+1))\n",
    "Vx = 10.1*np.sin(2.*NN*np.pi*(xpart*x+zpart*z))\n",
    "\n",
    "\n",
    "\n",
    "kgridG,alfVIso,fastVIso,slowVIso=mode_decomp(Vx,Vy,Vz,beta)\n",
    "plt.loglog(kgridG,fastVIso,'yo',label='fast')\n",
    "plt.loglog(kgridG,alfVIso,'bo',label='alfven')\n",
    "plt.loglog(kgridG,slowVIso,'ro',label='slow')\n",
    "\n",
    "#plt.yscale('log')\n",
    "\n",
    "plt.legend(loc='upper left')\n",
    "plt.xlabel('k')\n",
    "plt.ylabel('power')\n",
    "plt.title('Purely Fast Mode ')\n",
    "print fastVIso"
   ]
  },
  {
   "cell_type": "code",
   "execution_count": 5,
   "metadata": {
    "collapsed": false
   },
   "outputs": [
    {
     "name": "stdout",
     "output_type": "stream",
     "text": [
      "hello\n"
     ]
    },
    {
     "name": "stderr",
     "output_type": "stream",
     "text": [
      "/anaconda/lib/python2.7/site-packages/ipykernel/__main__.py:41: RuntimeWarning: invalid value encountered in divide\n",
      "/anaconda/lib/python2.7/site-packages/ipykernel/__main__.py:42: RuntimeWarning: invalid value encountered in divide\n",
      "/anaconda/lib/python2.7/site-packages/ipykernel/__main__.py:43: RuntimeWarning: invalid value encountered in divide\n"
     ]
    },
    {
     "name": "stdout",
     "output_type": "stream",
     "text": [
      "hey!\n"
     ]
    },
    {
     "name": "stderr",
     "output_type": "stream",
     "text": [
      "/anaconda/lib/python2.7/site-packages/ipykernel/__main__.py:105: RuntimeWarning: invalid value encountered in divide\n",
      "/anaconda/lib/python2.7/site-packages/ipykernel/__main__.py:106: RuntimeWarning: invalid value encountered in divide\n",
      "/anaconda/lib/python2.7/site-packages/ipykernel/__main__.py:107: RuntimeWarning: invalid value encountered in divide\n",
      "/anaconda/lib/python2.7/site-packages/ipykernel/__main__.py:116: RuntimeWarning: invalid value encountered in divide\n",
      "/anaconda/lib/python2.7/site-packages/ipykernel/__main__.py:117: RuntimeWarning: invalid value encountered in divide\n",
      "/anaconda/lib/python2.7/site-packages/ipykernel/__main__.py:118: RuntimeWarning: invalid value encountered in divide\n"
     ]
    },
    {
     "name": "stdout",
     "output_type": "stream",
     "text": [
      "63\n",
      "63\n",
      "63\n",
      "[  2.49116812e-31   7.21632538e-31   5.00000000e+01   2.50000000e+01\n",
      "   1.44226240e-29   1.65142261e-29   3.57097437e-29   5.17445892e-31\n",
      "   3.30917993e-30   4.52930850e-30   1.46292007e-30   1.57235041e-29\n",
      "   1.96579025e-29   3.04997446e-30   6.28804530e-30   5.52335496e-30\n",
      "   4.16637426e-31   1.28302884e-29   1.41004676e-29   3.17082657e-30\n",
      "   7.10143601e-30   5.86043258e-30   4.96343601e-31   1.46472985e-29\n",
      "   1.45375193e-29   7.12168616e-31   8.59583788e-30   8.20367782e-30\n",
      "   1.42769980e-31   1.10908783e-29   1.11903922e-29   5.46813902e-31\n",
      "   1.32216180e-29   1.09989777e-29   1.57521919e-31   1.62287111e-29\n",
      "   1.67012350e-29   1.61046664e-30   1.15896802e-29   1.05597446e-29\n",
      "   1.39538773e-31   2.09873798e-29   1.76297877e-29   2.96538335e-31\n",
      "   1.08223406e-29   1.10057577e-29   1.60705316e-31   1.32622563e-29\n",
      "   1.33921118e-29   3.48071206e-31   1.18602330e-29   1.20223811e-29\n",
      "   1.00158941e-30   1.49631355e-29   1.54415367e-29   5.10501732e-31\n",
      "   1.07250905e-29   1.10210247e-29   8.06836298e-31   1.43953946e-29\n",
      "   1.44745808e-29   3.14484017e-31   3.18619876e-29]\n"
     ]
    },
    {
     "data": {
      "image/png": "[encoded data removed]",
      "text/plain": [
       "<matplotlib.figure.Figure at 0x10969cf90>"
      ]
     },
     "metadata": {},
     "output_type": "display_data"
    }
   ],
   "source": [
    "#Mixed Alfven and Fast Test - so we know that the ratios are correct\n",
    "\n",
    "beta=1.;\n",
    "#units alfven speed = 1\n",
    "NN = 3.\n",
    "\n",
    "np.zeros((n+1,n+1,n+1))\n",
    "x,y,z=np.meshgrid(xg,yg,zg)#,indexing='ij')\n",
    "\n",
    "xpart=1.#.01\n",
    "zpart=np.sqrt(1.-xpart**2)\n",
    "\n",
    "Vz =np.zeros((n+1,n+1,n+1))\n",
    "Vy = 1.*np.sin(2.*NN*np.pi*x)\n",
    "Vx = 10.*np.sin(2.*NN*np.pi*(xpart*x+zpart*z))\n",
    "\n",
    "\n",
    "\n",
    "kgridG,alfVIso,fastVIso,slowVIso=mode_decomp(Vx,Vy,Vz,beta)\n",
    "plt.loglog(kgridG,fastVIso,'ys',label='fast')\n",
    "plt.loglog(kgridG,alfVIso,'bo',label='alfven',alpha=.4)\n",
    "plt.loglog(kgridG,slowVIso,'ro',label='slow')\n",
    "\n",
    "#plt.yscale('log')\n",
    "\n",
    "plt.legend(loc='upper left')\n",
    "plt.xlabel('k')\n",
    "plt.ylabel('power')\n",
    "plt.title('Mixed Alfven and Fast ')\n",
    "print fastVIso"
   ]
  },
  {
   "cell_type": "code",
   "execution_count": 6,
   "metadata": {
    "collapsed": false
   },
   "outputs": [
    {
     "name": "stdout",
     "output_type": "stream",
     "text": [
      "[ 130.8734202   100.17777395  100.          100.            5.23853285\n",
      "   91.6205498     1.67640073   90.79349323    3.17042741    1.38750326\n",
      "   81.24271709    1.0813337     1.35232185   75.29491364    1.30946586\n",
      "    1.15674212  323.83749704    1.03051499    1.13600027   99.43788594\n",
      "    1.15845703    0.96100774   67.51737784    1.09291842    1.08844772\n",
      "  178.05763244    1.10567441    1.05895466   71.29296484    1.05091975\n",
      "    1.06346937  109.26287972    1.6397661     1.37210973   47.80272796\n",
      "    1.04479023    1.07747747  104.5330104     1.23374934    1.1279095\n",
      "   93.0425197     1.62572026    1.3734601   153.5191194     1.05793549\n",
      "    1.078288    141.53379702    1.01201947    1.02406385  132.01841876\n",
      "    1.05523163    1.07118388  112.49288373    1.06092492    1.09663693\n",
      "  154.35512431    1.04695224    1.07740851   52.67317246    1.08807033\n",
      "    1.09618968   55.85159452    3.01040903]\n"
     ]
    }
   ],
   "source": [
    "print fastVIso/alfVIso\n"
   ]
  },
  {
   "cell_type": "code",
   "execution_count": 27,
   "metadata": {
    "collapsed": false
   },
   "outputs": [
    {
     "name": "stdout",
     "output_type": "stream",
     "text": [
      "0.61803398875\n",
      "1.61803398875\n",
      "2.61803398875\n",
      "fast ratio\n",
      "-4.2360679775\n",
      "slow ratio\n",
      "0.2360679775\n",
      "hello\n"
     ]
    },
    {
     "name": "stderr",
     "output_type": "stream",
     "text": [
      "/anaconda/lib/python2.7/site-packages/ipykernel/__main__.py:41: RuntimeWarning: invalid value encountered in divide\n",
      "/anaconda/lib/python2.7/site-packages/ipykernel/__main__.py:42: RuntimeWarning: invalid value encountered in divide\n",
      "/anaconda/lib/python2.7/site-packages/ipykernel/__main__.py:43: RuntimeWarning: invalid value encountered in divide\n"
     ]
    },
    {
     "name": "stdout",
     "output_type": "stream",
     "text": [
      "hey!\n"
     ]
    },
    {
     "name": "stderr",
     "output_type": "stream",
     "text": [
      "/anaconda/lib/python2.7/site-packages/ipykernel/__main__.py:105: RuntimeWarning: invalid value encountered in divide\n",
      "/anaconda/lib/python2.7/site-packages/ipykernel/__main__.py:106: RuntimeWarning: invalid value encountered in divide\n",
      "/anaconda/lib/python2.7/site-packages/ipykernel/__main__.py:107: RuntimeWarning: invalid value encountered in divide\n",
      "/anaconda/lib/python2.7/site-packages/ipykernel/__main__.py:116: RuntimeWarning: invalid value encountered in divide\n",
      "/anaconda/lib/python2.7/site-packages/ipykernel/__main__.py:117: RuntimeWarning: invalid value encountered in divide\n",
      "/anaconda/lib/python2.7/site-packages/ipykernel/__main__.py:118: RuntimeWarning: invalid value encountered in divide\n"
     ]
    },
    {
     "name": "stdout",
     "output_type": "stream",
     "text": [
      "63\n",
      "63\n",
      "63\n",
      "[  4.58272140e+01   9.00629818e+00   1.29810367e+01   9.19776136e+00\n",
      "   3.45631517e+30   8.68255660e+30   8.10375235e+00   1.16816543e+02\n",
      "   3.10383346e+01   9.16782959e+00   1.03332687e+01   5.52883540e+00\n",
      "   9.30663139e+00   1.10141669e+01   5.86419639e+00   4.55922747e+00\n",
      "   6.47060521e+00   2.38503945e+01   4.46039578e+00   2.78867629e+01\n",
      "   2.11655574e+01   4.28624532e+00   2.93523760e+01   8.15712660e+00\n",
      "   4.26372213e+00   8.51817526e+00   5.78663986e+00   3.83936396e+00\n",
      "   1.68829334e+01   8.20947219e+00   4.96930615e+00   1.98056660e+01\n",
      "   3.00343812e+00   2.84735361e+00   2.00991921e+01   1.88610388e+00\n",
      "   2.31865949e+00   1.45150973e+01   3.51832228e+00   2.34124230e+00\n",
      "   1.14807550e+01   2.25107305e+00   5.15078671e+00   1.90990204e+01\n",
      "   2.07500136e+00   1.75141673e+00   1.30875659e+01   1.33807971e+00\n",
      "   1.77686083e+00   1.38847865e+01   2.11428372e+00   2.85114173e+00\n",
      "   1.10541824e+01   3.15511272e+00   2.20670999e+00   9.51972489e+00\n",
      "   1.94713024e+00   3.51456975e+00   1.46289819e+01   3.41890262e+00\n",
      "   6.01505205e+00   1.34167266e+01   3.56326562e+00]\n"
     ]
    },
    {
     "data": {
      "image/png": "[encoded data removed]",
      "text/plain": [
       "<matplotlib.figure.Figure at 0x109aebad0>"
      ]
     },
     "metadata": {},
     "output_type": "display_data"
    }
   ],
   "source": [
    "#just the fast mode\n",
    "beta=1.;\n",
    "NN=4.\n",
    "n=128\n",
    "xg=np.linspace(0.,1.,n+1,endpoint=False)\n",
    "yg=np.linspace(0.,1.,n+1,endpoint=False)\n",
    "zg=np.linspace(0.,1.,n+1,endpoint=False)\n",
    "x,y,z=np.meshgrid(xg,yg,zg)\n",
    "\n",
    "theta = np.pi/4.\n",
    "\n",
    "k = 2.*np.pi*NN*np.sqrt(2.)\n",
    "kx = 2.*np.pi*NN#*np.sin(theta)\n",
    "kz = 2.*np.pi*NN#*np.cos(theta)\n",
    "\n",
    "#1/beta\n",
    "b0= np.sqrt(2.)/(beta)\n",
    "vs = np.sqrt(.5*(1.+b0**2-((1.+b0**2)**2-4.*b0**2*kz**2/k**2)**.5))\n",
    "vf = np.sqrt(.5*(1.+b0**2+((1.+b0**2)**2-4.*b0**2*kz**2/k**2)**.5))\n",
    "print vs\n",
    "print vf\n",
    "print vf/vs\n",
    "#fast wave\n",
    "Vx = -1.01*kx*k*vf*np.sin(kx*x+kz*z)\n",
    "Vz = 1.01*vf*k/kz*(-kz**2+k**2*vs**2)*np.sin(kx*x+kz*z)\n",
    "\n",
    "#slow wave\n",
    "#Vx += -.01*kx*k*vs*np.sin(kx*x+kz*z)\n",
    "#Vz += -.01*vs*k/kz*(-kz**2+k**2*vf**2)*np.sin(kx*x+kz*z)\n",
    "\n",
    "print \"fast ratio\"\n",
    "print (-kx*k*vf)/(-vf*k/kz*(-kz**2+k**2*vs**2))\n",
    "print \"slow ratio\"\n",
    "print (-kx*k*vs)/(-vs*k/kz*(-kz**2+k**2*vf**2))\n",
    "\n",
    "Vy = np.zeros((n+1,n+1,n+1))\n",
    "\n",
    "kgridG,alfVIso,fastVIso,slowVIso=mode_decomp(Vx,Vy,Vz,beta)\n",
    "\n",
    "print fastVIso/slowVIso\n",
    " \n",
    "\n",
    "plt.loglog(kgridG,slowVIso,'ro',label='slow')\n",
    "plt.loglog(kgridG,fastVIso,'yo',label='fast')\n",
    "plt.legend()\n",
    "plt.xlabel('k')\n",
    "plt.ylabel('power')\n",
    "plt.title('Just Fast Mode ')\n",
    "plt.savefig('slowfast_equal.pdf')"
   ]
  },
  {
   "cell_type": "code",
   "execution_count": 28,
   "metadata": {
    "collapsed": false
   },
   "outputs": [
    {
     "name": "stdout",
     "output_type": "stream",
     "text": [
      "0.61803398875\n",
      "1.61803398875\n",
      "2.61803398875\n",
      "fast ratio\n",
      "-4.2360679775\n",
      "slow ratio\n",
      "0.2360679775\n",
      "hello\n"
     ]
    },
    {
     "name": "stderr",
     "output_type": "stream",
     "text": [
      "/anaconda/lib/python2.7/site-packages/ipykernel/__main__.py:41: RuntimeWarning: invalid value encountered in divide\n",
      "/anaconda/lib/python2.7/site-packages/ipykernel/__main__.py:42: RuntimeWarning: invalid value encountered in divide\n",
      "/anaconda/lib/python2.7/site-packages/ipykernel/__main__.py:43: RuntimeWarning: invalid value encountered in divide\n"
     ]
    },
    {
     "name": "stdout",
     "output_type": "stream",
     "text": [
      "hey!\n"
     ]
    },
    {
     "name": "stderr",
     "output_type": "stream",
     "text": [
      "/anaconda/lib/python2.7/site-packages/ipykernel/__main__.py:105: RuntimeWarning: invalid value encountered in divide\n",
      "/anaconda/lib/python2.7/site-packages/ipykernel/__main__.py:106: RuntimeWarning: invalid value encountered in divide\n",
      "/anaconda/lib/python2.7/site-packages/ipykernel/__main__.py:107: RuntimeWarning: invalid value encountered in divide\n",
      "/anaconda/lib/python2.7/site-packages/ipykernel/__main__.py:116: RuntimeWarning: invalid value encountered in divide\n",
      "/anaconda/lib/python2.7/site-packages/ipykernel/__main__.py:117: RuntimeWarning: invalid value encountered in divide\n",
      "/anaconda/lib/python2.7/site-packages/ipykernel/__main__.py:118: RuntimeWarning: invalid value encountered in divide\n"
     ]
    },
    {
     "name": "stdout",
     "output_type": "stream",
     "text": [
      "63\n",
      "63\n",
      "63\n",
      "[  3.63620751e-02   8.97729617e-02   1.11784401e-01   1.13401670e-01\n",
      "   6.28200445e-32   1.38299451e-32   7.79781037e-02   3.37819247e-03\n",
      "   1.84985006e-02   1.62191893e-02   3.58056378e-02   1.89521133e-01\n",
      "   2.81396135e-02   2.35734731e-02   1.61289607e-01   3.92251108e-02\n",
      "   5.60471193e-02   4.22220541e-02   6.19737627e-03   3.07785422e-02\n",
      "   5.10993120e-02   1.01810823e-02   3.31563572e-02   1.26588845e-01\n",
      "   1.03293215e-02   1.11607670e-01   3.09270591e-02   1.10151541e-02\n",
      "   6.30223766e-02   2.90763282e-02   1.30910967e-02   6.34190359e-02\n",
      "   9.15331068e-03   8.12467193e-03   5.03511443e-02   5.95543462e-03\n",
      "   7.09034155e-03   5.36135964e-02   1.40718598e-02   8.75700090e-03\n",
      "   9.84479324e-02   1.23847969e-02   1.22251101e-02   6.12061605e-02\n",
      "   6.73833023e-03   8.18358468e-03   6.14363152e-02   6.55313041e-03\n",
      "   4.78443966e-03   7.69173211e-02   9.99343222e-03   1.50275361e-02\n",
      "   8.05674374e-02   1.63871713e-02   9.56753061e-03   9.87386311e-02\n",
      "   1.00121471e-02   1.24144623e-02   5.90828165e-02   1.02103122e-02\n",
      "   1.43793146e-02   7.57087202e-02   1.40475266e-02]\n"
     ]
    },
    {
     "data": {
      "image/png": "[encoded data removed]",
      "text/plain": [
       "<matplotlib.figure.Figure at 0x109a734d0>"
      ]
     },
     "metadata": {},
     "output_type": "display_data"
    }
   ],
   "source": [
    "#just the slow mode\n",
    "beta=1.;\n",
    "NN=4.\n",
    "n=128\n",
    "xg=np.linspace(0.,1.,n+1,endpoint=False)\n",
    "yg=np.linspace(0.,1.,n+1,endpoint=False)\n",
    "zg=np.linspace(0.,1.,n+1,endpoint=False)\n",
    "x,y,z=np.meshgrid(xg,yg,zg)\n",
    "\n",
    "theta = np.pi/4.\n",
    "\n",
    "k = 2.*np.pi*NN*np.sqrt(2.)\n",
    "kx = 2.*np.pi*NN#*np.sin(theta)\n",
    "kz = 2.*np.pi*NN#*np.cos(theta)\n",
    "\n",
    "#1/beta\n",
    "b0= np.sqrt(2.)/(beta)\n",
    "vs = np.sqrt(.5*(1.+b0**2-((1.+b0**2)**2-4.*b0**2*kz**2/k**2)**.5))\n",
    "vf = np.sqrt(.5*(1.+b0**2+((1.+b0**2)**2-4.*b0**2*kz**2/k**2)**.5))\n",
    "print vs\n",
    "print vf\n",
    "print vf/vs\n",
    "#fast wave\n",
    "#Vx = -1.01*kx*k*vf*np.sin(kx*x+kz*z)\n",
    "#Vz = 1.01*vf*k/kz*(-kz**2+k**2*vs**2)*np.sin(kx*x+kz*z)\n",
    "\n",
    "#slow wave\n",
    "Vx = -.01*kx*k*vs*np.sin(kx*x+kz*z)\n",
    "Vz = .01*vs*k/kz*(-kz**2+k**2*vf**2)*np.sin(kx*x+kz*z)\n",
    "\n",
    "print \"fast ratio\"\n",
    "print (-kx*k*vf)/(-vf*k/kz*(-kz**2+k**2*vs**2))\n",
    "print \"slow ratio\"\n",
    "print (-kx*k*vs)/(-vs*k/kz*(-kz**2+k**2*vf**2))\n",
    "\n",
    "Vy = np.zeros((n+1,n+1,n+1))\n",
    "\n",
    "kgridG,alfVIso,fastVIso,slowVIso=mode_decomp(Vx,Vy,Vz,beta)\n",
    "\n",
    "print fastVIso/slowVIso\n",
    " \n",
    "\n",
    "plt.loglog(kgridG,slowVIso,'ro',label='slow')\n",
    "plt.loglog(kgridG,fastVIso,'yo',label='fast')\n",
    "plt.legend()\n",
    "plt.xlabel('k')\n",
    "plt.ylabel('power')\n",
    "plt.title('Just Slow Mode ')\n",
    "plt.savefig('slowfast_equal.pdf')"
   ]
  },
  {
   "cell_type": "code",
   "execution_count": 29,
   "metadata": {
    "collapsed": false
   },
   "outputs": [
    {
     "name": "stdout",
     "output_type": "stream",
     "text": [
      "hello\n"
     ]
    },
    {
     "name": "stderr",
     "output_type": "stream",
     "text": [
      "/anaconda/lib/python2.7/site-packages/ipykernel/__main__.py:41: RuntimeWarning: invalid value encountered in divide\n",
      "/anaconda/lib/python2.7/site-packages/ipykernel/__main__.py:42: RuntimeWarning: invalid value encountered in divide\n",
      "/anaconda/lib/python2.7/site-packages/ipykernel/__main__.py:43: RuntimeWarning: invalid value encountered in divide\n"
     ]
    },
    {
     "name": "stdout",
     "output_type": "stream",
     "text": [
      "hey!\n"
     ]
    },
    {
     "name": "stderr",
     "output_type": "stream",
     "text": [
      "/anaconda/lib/python2.7/site-packages/ipykernel/__main__.py:105: RuntimeWarning: invalid value encountered in divide\n",
      "/anaconda/lib/python2.7/site-packages/ipykernel/__main__.py:106: RuntimeWarning: invalid value encountered in divide\n",
      "/anaconda/lib/python2.7/site-packages/ipykernel/__main__.py:107: RuntimeWarning: invalid value encountered in divide\n",
      "/anaconda/lib/python2.7/site-packages/ipykernel/__main__.py:116: RuntimeWarning: invalid value encountered in divide\n",
      "/anaconda/lib/python2.7/site-packages/ipykernel/__main__.py:117: RuntimeWarning: invalid value encountered in divide\n",
      "/anaconda/lib/python2.7/site-packages/ipykernel/__main__.py:118: RuntimeWarning: invalid value encountered in divide\n"
     ]
    },
    {
     "name": "stdout",
     "output_type": "stream",
     "text": [
      "63\n",
      "63\n",
      "63\n",
      "[ 0.20715951  1.24387578  1.74280073  1.49061424  0.38196601  0.38196601\n",
      "  0.83217344  0.40974432  0.46430202  0.39090974  0.56122721  1.93148331\n",
      "  0.40611955  0.37968544  2.12974205  0.40085284  0.59030814  0.72625189\n",
      "  0.15052174  0.68240999  0.85775541  0.16803499  0.68513882  1.31522488\n",
      "  0.19477429  1.17548797  0.38764873  0.17824604  0.88382838  0.3988069\n",
      "  0.21365461  0.78428927  0.13265801  0.14068004  0.84799217  0.08686679\n",
      "  0.10910895  0.94017573  0.19891295  0.12390582  1.34561567  0.14724737\n",
      "  0.23818513  0.85574345  0.10233623  0.10203545  0.96844241  0.07150642\n",
      "  0.08846509  0.99192054  0.12250392  0.19558667  1.11920158  0.24447326\n",
      "  0.1416791   1.26905064  0.12293277  0.19127869  1.02157151  0.16715283\n",
      "  0.24741524  1.10850828  0.21026422]\n"
     ]
    },
    {
     "data": {
      "image/png": "[encoded data removed]",
      "text/plain": [
       "<matplotlib.figure.Figure at 0x1098b3310>"
      ]
     },
     "metadata": {},
     "output_type": "display_data"
    }
   ],
   "source": [
    "#mixed slow fast\n",
    "\n",
    "#just the slow mode\n",
    "beta=1.;\n",
    "NN=4.\n",
    "n=128\n",
    "xg=np.linspace(0.,1.,n+1,endpoint=False)\n",
    "yg=np.linspace(0.,1.,n+1,endpoint=False)\n",
    "zg=np.linspace(0.,1.,n+1,endpoint=False)\n",
    "x,y,z=np.meshgrid(xg,yg,zg)\n",
    "\n",
    "theta = np.pi/4.\n",
    "\n",
    "k = 2.*np.pi*NN*np.sqrt(2.)\n",
    "kx = 2.*np.pi*NN#*np.sin(theta)\n",
    "kz = 2.*np.pi*NN#*np.cos(theta)\n",
    "\n",
    "#1/beta\n",
    "b0= np.sqrt(2.)/(beta)\n",
    "vs = np.sqrt(.5*(1.+b0**2-((1.+b0**2)**2-4.*b0**2*kz**2/k**2)**.5))\n",
    "vf = np.sqrt(.5*(1.+b0**2+((1.+b0**2)**2-4.*b0**2*kz**2/k**2)**.5))\n",
    "\n",
    "#fast wave\n",
    "Vx = -1.01*kx*k*vf*np.sin(kx*x+kz*z)\n",
    "Vz = 1.01*vf*k/kz*(-kz**2+k**2*vs**2)*np.sin(kx*x+kz*z)\n",
    "\n",
    "#slow wave\n",
    "Vx += -1.01*kx*k*vs*np.sin(kx*x+kz*z)\n",
    "Vz += 1.01*vs*k/kz*(-kz**2+k**2*vf**2)*np.sin(kx*x+kz*z)\n",
    "\n",
    "\n",
    "Vy = np.zeros((n+1,n+1,n+1))\n",
    "\n",
    "kgridG,alfVIso,fastVIso,slowVIso=mode_decomp(Vx,Vy,Vz,beta)\n",
    "\n",
    "print fastVIso/slowVIso\n",
    " \n",
    "\n",
    "plt.loglog(kgridG,slowVIso,'ro',label='slow')\n",
    "plt.loglog(kgridG,fastVIso,'yo',label='fast')\n",
    "plt.legend()\n",
    "plt.xlabel('k')\n",
    "plt.ylabel('power')\n",
    "plt.title('Mixed Slow Fast equal ')\n",
    "plt.savefig('slowfast_equal.pdf')"
   ]
  },
  {
   "cell_type": "code",
   "execution_count": 39,
   "metadata": {
    "collapsed": false
   },
   "outputs": [
    {
     "name": "stdout",
     "output_type": "stream",
     "text": [
      "Keys: [u'Desired_Number_Of_Neighbors', u'Mass_Density_List_Of_Gas_NeighborsVX', u'Mass_Density_List_Of_Gas_NeighborsVY', u'Mass_Density_List_Of_Gas_NeighborsVZ', u'Minimum_Smoothing_Length_Allowed', u'Number_Of_Simulation_Dimensions', u'Periodic_BoxSize', u'Smoothing_Length_List_Of_Gas_NeighborsVX', u'Smoothing_Length_List_Of_Gas_NeighborsVY', u'Smoothing_Length_List_Of_Gas_NeighborsVZ', u'Snapshot_Directory', u'Snapshot_Number', u'Snapshot_Time', u'Total_Number_Of_Dust_Particles', u'Total_Number_Of_Gas_Particles', u'x_grid', u'y_grid', u'z_grid']\n",
      "hello\n"
     ]
    },
    {
     "name": "stderr",
     "output_type": "stream",
     "text": [
      "/anaconda/lib/python2.7/site-packages/ipykernel/__main__.py:41: RuntimeWarning: invalid value encountered in divide\n",
      "/anaconda/lib/python2.7/site-packages/ipykernel/__main__.py:42: RuntimeWarning: invalid value encountered in divide\n",
      "/anaconda/lib/python2.7/site-packages/ipykernel/__main__.py:43: RuntimeWarning: invalid value encountered in divide\n"
     ]
    },
    {
     "name": "stdout",
     "output_type": "stream",
     "text": [
      "hey!\n"
     ]
    },
    {
     "name": "stderr",
     "output_type": "stream",
     "text": [
      "/anaconda/lib/python2.7/site-packages/ipykernel/__main__.py:105: RuntimeWarning: invalid value encountered in divide\n",
      "/anaconda/lib/python2.7/site-packages/ipykernel/__main__.py:106: RuntimeWarning: invalid value encountered in divide\n",
      "/anaconda/lib/python2.7/site-packages/ipykernel/__main__.py:107: RuntimeWarning: invalid value encountered in divide\n",
      "/anaconda/lib/python2.7/site-packages/ipykernel/__main__.py:116: RuntimeWarning: invalid value encountered in divide\n",
      "/anaconda/lib/python2.7/site-packages/ipykernel/__main__.py:117: RuntimeWarning: invalid value encountered in divide\n",
      "/anaconda/lib/python2.7/site-packages/ipykernel/__main__.py:118: RuntimeWarning: invalid value encountered in divide\n"
     ]
    },
    {
     "name": "stdout",
     "output_type": "stream",
     "text": [
      "62\n",
      "62\n",
      "62\n"
     ]
    }
   ],
   "source": [
    "#now run the code on our simulation\n",
    "infi=h5py.File('/Users/darrylseligman/Desktop/Flatiron/Phil/Initial_Magnetic_Simulations/jono_default_params/b0_N64/output_wheeler/dust_ALFVEN_snap_0946.h5','r') # (defined same as above) \n",
    "print(\"Keys: %s\" % infi.keys())\n",
    "#h_g = np.array(infi[\"Smoothing_Length_List_Of_Gas_Neighbors\"]) # this will act like a normal vector: h_g[:] for all elements\n",
    "#h_d=np.array(infi[\"Smoothing_Length_List_Of_Dust_Neighbors\"])\n",
    "#read the list of B and V\n",
    "#B0=np.array(infi[\"Mass_Density_List_Of_Gas_Neighbors_B0\"])\n",
    "#B1=np.array(infi[\"Mass_Density_List_Of_Gas_Neighbors_B1\"])\n",
    "#B2=np.array(infi[\"Mass_Density_List_Of_Gas_Neighbors_B2\"])\n",
    "#V0=np.array(infi[\"Mass_Density_List_Of_Gas_Neighbors_v0\"])\n",
    "#V1=np.array(infi[\"Mass_Density_List_Of_Gas_Neighbors_v1\"])\n",
    "#V2=np.array(infi[\"Mass_Density_List_Of_Gas_Neighbors_v2\"])\n",
    "\n",
    "V0=np.array(infi[\"Mass_Density_List_Of_Gas_NeighborsVX\"])\n",
    "V1=np.array(infi[\"Mass_Density_List_Of_Gas_NeighborsVY\"])\n",
    "V2=np.array(infi[\"Mass_Density_List_Of_Gas_NeighborsVZ\"])\n",
    "xgrid=np.array(infi[\"x_grid\"])\n",
    "#nngb_d_v1=np.array(infi[\"Mass_Density_List_Of_Dust_Neighbors_v1\"])\n",
    "#nngb_g_v1=np.array(infi[\"Mass_Density_List_Of_Gas_Neighbors_v1\"])\n",
    "\n",
    "infi.close() \n",
    "\n",
    "kgridG,alfVIso,fastVIso,slowVIso=mode_decomp(V0,V1,V2,1.)\n"
   ]
  },
  {
   "cell_type": "code",
   "execution_count": 40,
   "metadata": {
    "collapsed": false
   },
   "outputs": [
    {
     "data": {
      "image/png": "[encoded data removed]",
      "text/plain": [
       "<matplotlib.figure.Figure at 0x102e3d8d0>"
      ]
     },
     "metadata": {},
     "output_type": "display_data"
    }
   ],
   "source": [
    "fig, ax1 = plt.subplots()\n",
    "#kvec=(np.arange(len(kgridG))+1)*2.*np.pi\n",
    "#kvec2=np.arange(512+5)#*2.*np.pi\n",
    "#print kvec2\n",
    "\n",
    "ax1.loglog(kgridG,alfVIso,label=r'$Alfv\\'en$',color='orange',alpha=1.)\n",
    "ax1.loglog(kgridG,slowVIso,'r',label=r'$Slow$')\n",
    "ax1.loglog(kgridG,fastVIso,'k',label=r'$Fast$')\n",
    "\n",
    "ax1.set_xlim([8.,550])\n",
    "ax2=ax1.twiny()\n",
    "ax2.loglog(kgridG/(np.pi),np.zeros_like(kgridG))\n",
    "ax2.set_xlim(ax2.get_xlim()[::-1])\n",
    "#ax2.set_xlim(512.,1.)\n",
    "#print ax2.get_xlim()[::-1]\n",
    "ax2.set_xlabel('Number of Zones',fontsize=10)\n",
    "ax1.set_xlabel('k',fontsize=10)\n",
    "ax1.set_ylabel('Power',fontsize=10)\n",
    "#ax1.set_ylim([5.e3,1.e9])\n",
    "ax1.legend(fancybox=True, shadow=True,loc='lower left')\n",
    "plt.savefig('Saturated_64x64x64_decomposition.pdf')\n",
    "#plt.ylabel('Power')"
   ]
  },
  {
   "cell_type": "code",
   "execution_count": 110,
   "metadata": {
    "collapsed": false
   },
   "outputs": [
    {
     "name": "stdout",
     "output_type": "stream",
     "text": [
      "[  7.11184257e+11   5.99244491e+08   5.46132710e+08   3.91861612e+08\n",
      "   3.56217772e+08   3.41776665e+08   3.26603600e+08   3.12552794e+08\n",
      "   2.97269078e+08   2.81946777e+08   2.64599547e+08   2.47132231e+08\n",
      "   2.30446042e+08   2.12613752e+08   1.94887101e+08   1.78555527e+08\n",
      "   1.62270310e+08   1.46571851e+08   1.52335131e+08   1.18016188e+08\n",
      "   1.04947138e+08   9.29245946e+07   8.15561112e+07   7.15746524e+07\n",
      "   6.24247101e+07   5.41156951e+07   4.66548806e+07   4.00328659e+07\n",
      "   3.42826936e+07   2.91881554e+07   2.47371531e+07   2.09565848e+07\n",
      "   1.76719599e+07   1.48230642e+07   1.24580028e+07   1.04156508e+07\n",
      "   9.86848969e+06   8.41806320e+06   6.15446839e+06   5.16908081e+06\n",
      "   4.37862812e+06   3.71094500e+06   3.14826558e+06   2.69867931e+06\n",
      "   2.33162550e+06   2.02743204e+06   1.78462727e+06   1.57606186e+06\n",
      "   1.40985306e+06   1.27527560e+06   1.16694587e+06   1.07696949e+06\n",
      "   1.00026102e+06   9.40087622e+05   8.90736884e+05   8.49928618e+05\n",
      "   8.23049650e+05   7.95633211e+05   7.85660616e+05   7.57162153e+05\n",
      "   7.55916945e+05   7.59005382e+05]\n"
     ]
    }
   ],
   "source": [
    "print fastVIso"
   ]
  },
  {
   "cell_type": "code",
   "execution_count": null,
   "metadata": {
    "collapsed": true
   },
   "outputs": [],
   "source": []
  }
 ],
 "metadata": {
  "kernelspec": {
   "display_name": "Python 2",
   "language": "python",
   "name": "python2"
  },
  "language_info": {
   "codemirror_mode": {
    "name": "ipython",
    "version": 2
   },
   "file_extension": ".py",
   "mimetype": "text/x-python",
   "name": "python",
   "nbconvert_exporter": "python",
   "pygments_lexer": "ipython2",
   "version": "2.7.11"
  }
 },
 "nbformat": 4,
 "nbformat_minor": 0
}
